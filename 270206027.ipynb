{
 "cells": [
  {
   "cell_type": "markdown",
   "metadata": {},
   "source": [
    "<h1>Math 265 Linear Algebra</h1>"
   ]
  },
  {
   "cell_type": "markdown",
   "metadata": {},
   "source": [
    "<h2>Matrix multiplication</h2>"
   ]
  },
  {
   "cell_type": "code",
   "execution_count": 1,
   "metadata": {},
   "outputs": [],
   "source": [
    "def MatrixDim(A: list) -> list: \n",
    "    #\n",
    "    # This function is supposed to return the dimensions of matrix A\n",
    "    #\n",
    "    M265rows = len(A)\n",
    "    \n",
    "    if not A:\n",
    "        M265cols = 0\n",
    "    else:\n",
    "        M265cols = len(A[0])\n",
    "        \n",
    "    return [M265rows, M265cols]   \n",
    "\n",
    "def MatrixMult(A: list, B: list) -> list:     \n",
    "    #\n",
    "    # This function should multiply the matrices A and B\n",
    "    # start by creating an empty array\n",
    "    M265Result = []\n",
    "    \n",
    "    dim_a = MatrixDim(A)\n",
    "    dim_b = MatrixDim(B)\n",
    "\n",
    "    if dim_a[1] is dim_b[0]:           # Checking if A and B can mutiply\n",
    "        for i in range(dim_a[0]):\n",
    "            M265Result.append([])\n",
    "            for j in range(dim_b[1]):\n",
    "                c = 0\n",
    "                for k in range(dim_a[1]):\n",
    "                    c += A[i][k] * B[k][j]\n",
    "                M265Result[i].append(c)\n",
    "        return M265Result\n",
    "    else:\n",
    "        print(\"ERROR: Matrices can not be multiplied\")\n",
    "        return -1"
   ]
  },
  {
   "cell_type": "markdown",
   "metadata": {},
   "source": [
    "Proof and explanations for you function related to Matrix Multiplication"
   ]
  },
  {
   "cell_type": "markdown",
   "metadata": {},
   "source": [
    "<h2>Back Substitution Programming<h2>"
   ]
  },
  {
   "cell_type": "code",
   "execution_count": 2,
   "metadata": {},
   "outputs": [],
   "source": [
    "def M265isRref(A: list) -> (bool, list):\n",
    "    leading_one_indices = []\n",
    "    non_zero_after_pivot = []\n",
    "\n",
    "    for i, row in enumerate(A):\n",
    "        passed_pivot: bool = False\n",
    "        for j, entry in enumerate(row):\n",
    "            if entry != 0 and i == 0:\n",
    "                if passed_pivot:\n",
    "                    non_zero_after_pivot.append(j)\n",
    "                else:\n",
    "                    passed_pivot = True\n",
    "                    if entry == 1:\n",
    "                        leading_one_indices.append(j)\n",
    "                    else:\n",
    "                        return False, []\n",
    "            if entry != 0 and i > 0:\n",
    "                if j in leading_one_indices:\n",
    "                    return False, []\n",
    "\n",
    "                if passed_pivot:\n",
    "                    non_zero_after_pivot.append(j)\n",
    "                else:\n",
    "                    passed_pivot = True\n",
    "                    if entry == 1:\n",
    "                        if j in non_zero_after_pivot:\n",
    "                            return False, []\n",
    "                        elif j <= max(leading_one_indices):\n",
    "                            return False, []\n",
    "                        else:\n",
    "                            leading_one_indices.append(j)\n",
    "                    else:\n",
    "                        return False, []\n",
    "                \n",
    "    return True, leading_one_indices\n",
    "                    \n",
    "\n",
    "def M265BackSubs(A: list, b: list) -> list:\n",
    "    is_reduced_echelon, leading_one_indices = M265isRref(A)\n",
    "    [row, col] = MatrixDim(A)\n",
    "    free_var_indices: list = [i for i in range(col) if i not in leading_one_indices]\n",
    "    \n",
    "    M265_parSol: list = [0 for _ in range(col)]\n",
    "    M265_homgSol: list = [[0 for _ in range(col)] for _ in range(len(free_var_indices))]\n",
    "    M265_solSet: list = []\n",
    "    \n",
    "    if is_reduced_echelon:\n",
    "        free_var_index: int = 0\n",
    "        cons_index: int = 0\n",
    "        for j in range(col):\n",
    "            if j in free_var_indices:\n",
    "                M265_homgSol[free_var_index][j] = 1\n",
    "                for i, leading_one_index in enumerate(leading_one_indices):\n",
    "                    M265_homgSol[free_var_index][leading_one_index] = -1 * A[i][j]\n",
    "                free_var_index += 1\n",
    "            else:\n",
    "                M265_parSol[j] = b[cons_index]\n",
    "                cons_index += 1\n",
    "                \n",
    "    M265_solSet.append(M265_parSol)\n",
    "    M265_solSet.append(M265_homgSol)\n",
    "    \n",
    "    return M265_solSet"
   ]
  },
  {
   "cell_type": "markdown",
   "metadata": {},
   "source": [
    "Proof and explanations for your code related to <em>Back Substitution</em>"
   ]
  },
  {
   "cell_type": "code",
   "execution_count": 3,
   "metadata": {},
   "outputs": [],
   "source": [
    "t156_0 = [[4, -4, -10, 14, 7, 8, -10, -12, 7, 11, 8, 3, -1, 12, -3, -1, -5, 1, -3, -5, 9, 6, 11, 14], [0, -3, 5, 13, -5, -15, 11, 14, 9, 12, -4, -6, -14, 4, -12, 14, 6, 5, -7, -3, 8, -14, 9, -10], [-1, -12, -3, 9, -14, -5, 6, 10, -11, -9, 11, -13, -1, -9, -8, 13, 11, 11, -6, -13, 1, 11, -13, -12], [-1, -8, 2, -10, 2, -7, 11, 7, 0, -5, 6, 12, -8, -8, -6, -5, 6, 0, 11, 2, 8, 11, -2, 10], [9, 3, 8, 1, 3, -5, -13, 7, 0, -1, 5, -3, -11, -5, -7, -7, -12, -4, 8, -11, -4, 14, -14, 0], [-4, -2, -9, -14, 4, -8, 2, -8, -15, -2, 8, 1, 13, 11, -15, 0, -15, 12, -1, 2, 0, -15, 9, -15], [-7, -10, -10, -8, 3, -11, -9, -5, 12, -8, 5, -7, -4, 5, -9, -3, 3, 14, 0, 6, 9, 0, 11, -8], [9, -3, -8, 1, -9, 10, 9, -15, -9, 2, 6, 8, 4, -9, -8, 6, 2, 12, -5, -2, 5, -14, 13, -4], [-12, -6, -14, 14, 10, -12, -15, 0, 2, 12, -11, -14, 6, 6, -7, -4, 12, 4, -13, -6, -12, -7, 5, 4], [-10, 5, 11, 13, -3, 12, -3, -9, -5, 13, 11, 12, -8, -15, -14, 11, 6, -14, -11, -9, -3, 7, 7, -13], [4, 1, 7, 10, 3, 8, -8, 3, -8, 13, -9, 9, -6, 0, -9, 3, -6, 13, 6, 9, -9, -2, 8, 9]]\n",
    "t156_1 = [[-6, 4, -11, 5, -10, 1, 1, -2, -11, 3, -2, 7, -12, -12, -1, 12, -10, 1, -12], [4, 4, -12, -8, 12, 6, -11, -11, 14, -9, 1, 7, -3, 8, 4, -3, -1, -7, -1], [10, -5, 6, 5, 14, -2, -6, 12, -13, 14, -8, 12, -14, 0, 14, -5, 13, 8, -3], [4, -15, -4, 10, -2, 14, -10, 3, -7, -5, 3, -8, -4, 14, -1, -8, 12, 12, -4], [0, -6, 5, -3, 6, -1, -2, -8, 11, 12, 13, -8, -8, 0, -13, 4, -5, -6, 13], [8, -15, -6, -1, -14, 13, -2, 10, -5, -14, -4, 7, -3, -14, -1, -4, -2, 14, -9], [4, -4, 7, 14, 10, 0, 5, 9, 7, -7, 4, -11, -13, -13, -8, 4, 9, -6, -8], [-10, -10, -9, -11, 4, -6, 12, 8, -6, -8, 1, -3, 4, -10, -9, -5, 14, -4, 7], [-4, -9, 4, 11, 8, -1, -4, 12, -2, 10, -5, 8, 5, -2, -15, -9, 14, -3, -5], [-3, 0, 3, 4, -7, -15, -14, 3, 12, -13, 6, -14, 14, 4, -14, 1, -6, -4, 4], [-14, -2, -6, 5, -7, 1, -14, -5, 12, -14, -6, 8, 13, 11, -6, 4, -7, -4, 6], [3, -13, 5, 0, -7, 11, -5, 5, 1, -3, 13, 10, -6, -13, 12, 5, 12, -10, -3], [3, -8, -7, -14, 13, 1, -8, -6, 14, -4, -14, 11, -1, -4, 9, -4, 11, -12, -1], [-6, 14, -12, -6, 5, -6, -9, -5, 3, -2, 0, -8, -9, 7, -7, -8, -14, 14, 4], [7, -5, 8, 2, 3, 2, 6, 14, 4, 4, -4, -14, 4, 13, 11, -12, -8, 2, 0], [12, 10, 1, -14, -5, -1, 7, -1, 14, 4, -2, 0, 12, -1, 7, 4, -4, 0, -13], [11, 4, -3, 6, 7, -8, 6, -7, -4, -1, 14, 8, 9, 9, -1, 6, 0, 0, -13], [12, 13, 3, 1, -2, 10, -13, 11, -15, 4, 12, -10, 8, 13, -11, 1, 1, 12, 11], [5, -11, -9, -1, -3, 13, -9, 1, -2, -11, -5, 8, -6, 6, 13, 9, 14, -15, 9]]"
   ]
  },
  {
   "cell_type": "code",
   "execution_count": 4,
   "metadata": {},
   "outputs": [],
   "source": [
    "A = [[1, 0, 3, 2, 0, 5],\n",
    "     [0, 1, 0, 3, 0, 0],\n",
    "     [0, 0, 0, 0, 1, 6]]\n",
    "b = [4, 3, 7]"
   ]
  },
  {
   "cell_type": "code",
   "execution_count": 5,
   "metadata": {},
   "outputs": [
    {
     "data": {
      "text/plain": [
       "[[4, 3, 0, 0, 7, 0],\n",
       " [[-3, 0, 1, 0, 0, 0], [-2, -3, 0, 1, 0, 0], [-5, 0, 0, 0, -6, 1]]]"
      ]
     },
     "execution_count": 5,
     "metadata": {},
     "output_type": "execute_result"
    }
   ],
   "source": [
    "M265BackSubs(A, b)"
   ]
  },
  {
   "cell_type": "code",
   "execution_count": null,
   "metadata": {},
   "outputs": [],
   "source": []
  }
 ],
 "metadata": {
  "kernelspec": {
   "display_name": "Python 3",
   "language": "python",
   "name": "python3"
  },
  "language_info": {
   "codemirror_mode": {
    "name": "ipython",
    "version": 3
   },
   "file_extension": ".py",
   "mimetype": "text/x-python",
   "name": "python",
   "nbconvert_exporter": "python",
   "pygments_lexer": "ipython3",
   "version": "3.8.5"
  }
 },
 "nbformat": 4,
 "nbformat_minor": 2
}
