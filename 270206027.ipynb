{
 "cells": [
  {
   "cell_type": "markdown",
   "metadata": {},
   "source": [
    "<h1>Math 265 Linear Algebra</h1>"
   ]
  },
  {
   "cell_type": "markdown",
   "metadata": {},
   "source": [
    "## Matrix multiplication"
   ]
  },
  {
   "cell_type": "code",
   "execution_count": 1,
   "metadata": {},
   "outputs": [],
   "source": [
    "def MatrixDim(A: list) -> list: \n",
    "    row = len(A)\n",
    "    \n",
    "    if not A:\n",
    "        column = 0\n",
    "    else:\n",
    "        column = len(A[0])\n",
    "        \n",
    "    return [row, column]   \n",
    "\n",
    "def MatrixMult(A: list, B: list):\n",
    "    result = []\n",
    "    \n",
    "    dim_a = MatrixDim(A)\n",
    "    dim_b = MatrixDim(B)\n",
    "\n",
    "    if dim_a[1] is dim_b[0]:           # Checking if A and B can mutiply\n",
    "        for i in range(dim_a[0]):\n",
    "            result.append([])\n",
    "            for j in range(dim_b[1]):\n",
    "                c = 0\n",
    "                for k in range(dim_a[1]):\n",
    "                    c += A[i][k] * B[k][j]\n",
    "                result[i].append(c)\n",
    "        return result\n",
    "    else:\n",
    "        print(\"ERROR: Matrices can not be multiplied\")\n",
    "        return -1"
   ]
  },
  {
   "cell_type": "markdown",
   "metadata": {},
   "source": [
    "Proof and explanations for you function related to Matrix Multiplication"
   ]
  },
  {
   "cell_type": "markdown",
   "metadata": {},
   "source": [
    "## Back Substitution Programming"
   ]
  },
  {
   "cell_type": "code",
   "execution_count": 2,
   "metadata": {},
   "outputs": [],
   "source": [
    "def M265Pivots(data: list) -> list:\n",
    "    result = []\n",
    "\n",
    "    for i, row in enumerate(data):\n",
    "        for j, entry in enumerate(row):\n",
    "            if entry != 0:\n",
    "                result.append(j)\n",
    "                break\n",
    "        if len(result) < i + 1:\n",
    "            result.append(-1)     \n",
    "    return result\n",
    "\n",
    "def M265isRref(A: list) -> bool:\n",
    "    pivot_points: list = M265Pivots(A)\n",
    "    result: bool = all(a < b if a != -1 and b != -1 else a >= b for a, b in zip(pivot_points, pivot_points[1:]))\n",
    "    \n",
    "    if result:\n",
    "        for row, pivot in zip(A, pivot_points):\n",
    "            for j, entry in enumerate(row):\n",
    "                if pivot != -1:\n",
    "                    if j < pivot and entry != 0:\n",
    "                        return False\n",
    "                    elif j == pivot and entry != 1:\n",
    "                        return False\n",
    "                    elif j > pivot and entry != 0 and j in pivot_points:\n",
    "                        return False\n",
    "    \n",
    "    return result\n",
    "\n",
    "def M265BackSubs(A: list, b: list) -> list:\n",
    "    [row, column] = MatrixDim(A)\n",
    "    pivot_points: list = M265Pivots(A)\n",
    "    par_sol: list = [0 for _ in range(column)]\n",
    "    homg_sol: list = [[0 for _ in range(column)] for i in range(column) if i not in pivot_points ]\n",
    "    sol_set: list = []\n",
    "    \n",
    "    if M265isRref(A):\n",
    "        homg_sol_index: int = 0\n",
    "        par_sol_index: int = 0\n",
    "        for j in range(column):\n",
    "            for i in range(row):\n",
    "                if j in pivot_points and A[i][j] == 1:\n",
    "                    par_sol[j] = b[par_sol_index]\n",
    "                elif pivot_points[i] == -1 and b[i] != 0:\n",
    "                    return [[], homg_sol]\n",
    "                elif j not in pivot_points and pivot_points[i] != -1:\n",
    "                    homg_sol[homg_sol_index][pivot_points[i]] = -A[i][j]\n",
    "                    homg_sol[homg_sol_index][j] = 1\n",
    "            if j in pivot_points:\n",
    "                par_sol_index += 1\n",
    "            else:\n",
    "                homg_sol_index += 1\n",
    "    else:\n",
    "        print(\"ERROR: Given matrix is not in reduced row echelon form\")\n",
    "\n",
    "    sol_set.append(par_sol)\n",
    "    sol_set.append(homg_sol)\n",
    "    return sol_set"
   ]
  },
  {
   "cell_type": "markdown",
   "metadata": {},
   "source": [
    "Proof and explanations for your code related to _Back Substitution_"
   ]
  },
  {
   "cell_type": "code",
   "execution_count": 3,
   "metadata": {},
   "outputs": [],
   "source": [
    "t156_0 = [[4, -4, -10, 14, 7, 8, -10, -12, 7, 11, 8, 3, -1, 12, -3, -1, -5, 1, -3, -5, 9, 6, 11, 14], [0, -3, 5, 13, -5, -15, 11, 14, 9, 12, -4, -6, -14, 4, -12, 14, 6, 5, -7, -3, 8, -14, 9, -10], [-1, -12, -3, 9, -14, -5, 6, 10, -11, -9, 11, -13, -1, -9, -8, 13, 11, 11, -6, -13, 1, 11, -13, -12], [-1, -8, 2, -10, 2, -7, 11, 7, 0, -5, 6, 12, -8, -8, -6, -5, 6, 0, 11, 2, 8, 11, -2, 10], [9, 3, 8, 1, 3, -5, -13, 7, 0, -1, 5, -3, -11, -5, -7, -7, -12, -4, 8, -11, -4, 14, -14, 0], [-4, -2, -9, -14, 4, -8, 2, -8, -15, -2, 8, 1, 13, 11, -15, 0, -15, 12, -1, 2, 0, -15, 9, -15], [-7, -10, -10, -8, 3, -11, -9, -5, 12, -8, 5, -7, -4, 5, -9, -3, 3, 14, 0, 6, 9, 0, 11, -8], [9, -3, -8, 1, -9, 10, 9, -15, -9, 2, 6, 8, 4, -9, -8, 6, 2, 12, -5, -2, 5, -14, 13, -4], [-12, -6, -14, 14, 10, -12, -15, 0, 2, 12, -11, -14, 6, 6, -7, -4, 12, 4, -13, -6, -12, -7, 5, 4], [-10, 5, 11, 13, -3, 12, -3, -9, -5, 13, 11, 12, -8, -15, -14, 11, 6, -14, -11, -9, -3, 7, 7, -13], [4, 1, 7, 10, 3, 8, -8, 3, -8, 13, -9, 9, -6, 0, -9, 3, -6, 13, 6, 9, -9, -2, 8, 9]]\n",
    "t156_1 = [[-6, 4, -11, 5, -10, 1, 1, -2, -11, 3, -2, 7, -12, -12, -1, 12, -10, 1, -12], [4, 4, -12, -8, 12, 6, -11, -11, 14, -9, 1, 7, -3, 8, 4, -3, -1, -7, -1], [10, -5, 6, 5, 14, -2, -6, 12, -13, 14, -8, 12, -14, 0, 14, -5, 13, 8, -3], [4, -15, -4, 10, -2, 14, -10, 3, -7, -5, 3, -8, -4, 14, -1, -8, 12, 12, -4], [0, -6, 5, -3, 6, -1, -2, -8, 11, 12, 13, -8, -8, 0, -13, 4, -5, -6, 13], [8, -15, -6, -1, -14, 13, -2, 10, -5, -14, -4, 7, -3, -14, -1, -4, -2, 14, -9], [4, -4, 7, 14, 10, 0, 5, 9, 7, -7, 4, -11, -13, -13, -8, 4, 9, -6, -8], [-10, -10, -9, -11, 4, -6, 12, 8, -6, -8, 1, -3, 4, -10, -9, -5, 14, -4, 7], [-4, -9, 4, 11, 8, -1, -4, 12, -2, 10, -5, 8, 5, -2, -15, -9, 14, -3, -5], [-3, 0, 3, 4, -7, -15, -14, 3, 12, -13, 6, -14, 14, 4, -14, 1, -6, -4, 4], [-14, -2, -6, 5, -7, 1, -14, -5, 12, -14, -6, 8, 13, 11, -6, 4, -7, -4, 6], [3, -13, 5, 0, -7, 11, -5, 5, 1, -3, 13, 10, -6, -13, 12, 5, 12, -10, -3], [3, -8, -7, -14, 13, 1, -8, -6, 14, -4, -14, 11, -1, -4, 9, -4, 11, -12, -1], [-6, 14, -12, -6, 5, -6, -9, -5, 3, -2, 0, -8, -9, 7, -7, -8, -14, 14, 4], [7, -5, 8, 2, 3, 2, 6, 14, 4, 4, -4, -14, 4, 13, 11, -12, -8, 2, 0], [12, 10, 1, -14, -5, -1, 7, -1, 14, 4, -2, 0, 12, -1, 7, 4, -4, 0, -13], [11, 4, -3, 6, 7, -8, 6, -7, -4, -1, 14, 8, 9, 9, -1, 6, 0, 0, -13], [12, 13, 3, 1, -2, 10, -13, 11, -15, 4, 12, -10, 8, 13, -11, 1, 1, 12, 11], [5, -11, -9, -1, -3, 13, -9, 1, -2, -11, -5, 8, -6, 6, 13, 9, 14, -15, 9]]"
   ]
  },
  {
   "cell_type": "markdown",
   "metadata": {},
   "source": [
    "## Gaussian Elimination"
   ]
  },
  {
   "cell_type": "code",
   "execution_count": 64,
   "metadata": {},
   "outputs": [],
   "source": [
    "def print_matrix(A: list):\n",
    "    for i in range(len(A)):\n",
    "        print(A[i])\n",
    "\n",
    "def M265Identity(length: int) -> list:\n",
    "    I = []\n",
    "    \n",
    "    for i in range(length):\n",
    "        I.append([])\n",
    "        for j in range(length):\n",
    "            if i == j:\n",
    "                I[i].append(1)\n",
    "            else:\n",
    "                I[i].append(0)\n",
    "                \n",
    "    return I\n",
    "\n",
    "def M265GaussianElimination(A: list, debug: bool = False) -> list:\n",
    "    [row, _column] = MatrixDim(A)\n",
    "    result = []\n",
    "\n",
    "    if debug:\n",
    "        print(\"Starting\")\n",
    "        print_matrix(A)\n",
    "        print()\n",
    "\n",
    "\n",
    "    while not M265isRref(A):\n",
    "        pivot_points = M265Pivots(A)\n",
    "        for index, (a, b) in enumerate(zip(pivot_points, pivot_points[1:])):\n",
    "            if a == -1 and b != -1:\n",
    "                i = M265Identity(row)\n",
    "                for j in range(row):\n",
    "                    i[index][j], i[index + 1][j] = i[index + 1][j], i[index][j]\n",
    "                result.append(i)\n",
    "                A = MatrixMult(i, A)\n",
    "                # pivot_points[index], pivot_points[index +\n",
    "                                                  # 1] = pivot_points[index + 1], pivot_points[index]\n",
    "                if debug:\n",
    "                    print(\"Found zero row above non-zero row swapping\")\n",
    "                    print_matrix(A)\n",
    "                    print()\n",
    "                break\n",
    "            elif a > b and a != -1 and b != -1:\n",
    "                i = M265Identity(row)\n",
    "                for j in range(row):\n",
    "                    i[index][j], i[index + 1][j] = i[index + 1][j], i[index][j]\n",
    "                result.append(i)\n",
    "                A = MatrixMult(i, A)\n",
    "                # pivot_points[index], pivot_points[index +\n",
    "                                                  # 1] = pivot_points[index + 1], pivot_points[index]\n",
    "                if debug:\n",
    "                    print(\"Arranging pivot points swapping two adjacent rows\")\n",
    "                    print_matrix(A)\n",
    "                    print()\n",
    "                break\n",
    "            elif a == b and a != -1 and b != -1:\n",
    "                i = M265Identity(row)\n",
    "                multiply_by = -A[index + 1][b] / A[index][a]\n",
    "                i[index + 1][index] += i[index][index] * multiply_by\n",
    "                result.append(i)\n",
    "                A = MatrixMult(i, A)\n",
    "                if debug:\n",
    "                    print(\n",
    "                        f\"Eliminating pivot point. Multiplying row {index} with ratio and adding to row {index + 1}\")\n",
    "                    print_matrix(A)\n",
    "                break\n",
    "            else:\n",
    "                if (a != -1 and A[index][a] != 1) or (b != -1 and A[index + 1][b] != 1):\n",
    "                    if a != -1 and A[index][a] != 1:\n",
    "                        i = M265Identity(row)\n",
    "                        i[index][index] /= A[index][a]\n",
    "                        result.append(i)\n",
    "                        A = MatrixMult(i, A)\n",
    "                        if debug:\n",
    "                            print(f\"Leading variable in row {index} column {a} is not 1. Dividing by ratio\")\n",
    "                            print_matrix(A)\n",
    "                            print()\n",
    "                        break\n",
    "                    if b != -1 and A[index + 1][b] != 1:\n",
    "                        i = M265Identity(row)\n",
    "                        i[index + 1][index + 1] /= A[index + 1][b]\n",
    "                        result.append(i)\n",
    "                        A = MatrixMult(i, A)\n",
    "                        if debug:\n",
    "                            print(f\"Leading variable in row {index + 1} column {b} is not one. Dividing by ratio\")\n",
    "                            print_matrix(A)\n",
    "                            print()\n",
    "                        break\n",
    "                else:\n",
    "                    if debug:\n",
    "                        print(f\"Looking for non-zeros above the leading variable at column {a} and {b}\")\n",
    "                    for i in range(row):\n",
    "                        if a != -1 and i < index and A[i][a] != 0:\n",
    "                            identity = M265Identity(row)\n",
    "                            multiply_by = -A[i][a] / A[index][a]\n",
    "                            identity[i][index] = identity[index][index] * \\\n",
    "                                multiply_by\n",
    "                            result.append(identity)\n",
    "                            A = MatrixMult(identity, A)\n",
    "                        if b != -1 and i < index + 1 and A[i][b] != 0:\n",
    "                            identity = M265Identity(row)\n",
    "                            multiply_by = -A[i][b] / A[index + 1][b]\n",
    "                            identity[i][index + 1] = identity[index +\n",
    "                                                       1][index + 1] * multiply_by\n",
    "                            result.append(identity)\n",
    "                            A = MatrixMult(identity, A)\n",
    "                    if debug:\n",
    "                        print_matrix(A)\n",
    "                        print()\n",
    "\n",
    "    return result"
   ]
  },
  {
   "cell_type": "markdown",
   "metadata": {},
   "source": [
    "## Vector Space Operations"
   ]
  },
  {
   "cell_type": "code",
   "execution_count": 5,
   "metadata": {},
   "outputs": [],
   "source": [
    "def vector_add(lhs: list, rhs: list) -> list:\n",
    "    if lhs[0] > 9 and rhs[0] > 9:\n",
    "        result = [lhs[0] * rhs[0] - 9 * (lhs[0] + rhs[0]) + 90, \\\n",
    "                  lhs[1] + rhs[1] - 2]\n",
    "\n",
    "        if result[0] > 9:\n",
    "            return result\n",
    "        else:\n",
    "            print(\"ERROR: The resultant vector is not defined in the vector space\")\n",
    "            return None\n",
    "    else:\n",
    "        print(\"ERROR: Given one of the vectors is not defined in the vector space\")\n",
    "        return None\n",
    "\n",
    "def scalar_mul(alpha: int, v: list) -> list:\n",
    "    if v[0] > 9:\n",
    "        result = [(v[0] - 9)**alpha + 9, \\\n",
    "                  alpha * v[1] - 2 * alpha + 2]\n",
    "\n",
    "        if result[0] > 9:\n",
    "            return result\n",
    "        else:\n",
    "            print(\"ERROR: The resultant vector is not defined in the vector space\")\n",
    "            return None\n",
    "    else:\n",
    "        print(\"ERROR: Given vector is not defined in the vector space\")\n",
    "        return None\n",
    "    \n",
    "def zero_vector() -> list:\n",
    "    v = [11, 7]\n",
    "    return scalar_mul(0, v)\n",
    "    \n",
    "def additive_inverse(v: list) -> list:\n",
    "    return scalar_mul(-1, v)"
   ]
  },
  {
   "cell_type": "markdown",
   "metadata": {},
   "source": [
    "## Linear Dependence"
   ]
  },
  {
   "cell_type": "markdown",
   "metadata": {},
   "source": [
    "$ u = \\left(\\begin{array}{c} x\\\\y\\\\z\\end{array}\\right)$ $ v = \\left(\\begin{array}{c} s\\\\t\\\\r\\end{array}\\right)$"
   ]
  },
  {
   "cell_type": "markdown",
   "metadata": {},
   "source": [
    "$$u\\oplus v \n",
    " = \\left(\\begin{array}{c} x\\\\y\\\\z\\end{array}\\right)\n",
    "     \\oplus \\left(\\begin{array}{c} s\\\\t\\\\r\\end{array}\\right)\n",
    " = \\left(\\begin{array}{c} x+s-2\\\\y+t\\\\z+r+4\\end{array}\\right)$$"
   ]
  },
  {
   "cell_type": "markdown",
   "metadata": {},
   "source": [
    "$$\\alpha \\odot \\vec{u}\n",
    "    =\\alpha \\odot\\left(\\begin{array}{c} x\\\\y\\\\z\\end{array}\\right)\n",
    "    =\\left(\\begin{array}{c} \n",
    "            \\alpha x-2\\alpha +2\n",
    "            \\\\\\alpha y\n",
    "            \\\\\\alpha z +4\\alpha - 4\\end{array}\\right)$$"
   ]
  },
  {
   "cell_type": "code",
   "execution_count": 6,
   "metadata": {},
   "outputs": [],
   "source": [
    "b1 = [1,3,4]\n",
    "b2 = [0,0,0]\n",
    "b3 = [2,0,-4]\n",
    "b4 = [-2,0,4]"
   ]
  },
  {
   "cell_type": "code",
   "execution_count": 7,
   "metadata": {},
   "outputs": [],
   "source": [
    "def vector_add(lhs: list, rhs: list) -> list:\n",
    "    return [lhs[0] + rhs[0] - 2, \\\n",
    "            lhs[1] + rhs[1], \\\n",
    "            lhs[2] + rhs[2] + 4]\n",
    "\n",
    "def scalar_mul(alpha: int, v: list) -> list:\n",
    "    return [alpha * v[0] - 2 * alpha + 2, \\\n",
    "            alpha * v[1], \\\n",
    "            alpha * v[2] + 4 * alpha - 4]\n",
    "\n",
    "def zero_vector() -> list:\n",
    "    v = [1, 2, 3]\n",
    "    return scalar_mul(0, v)\n",
    "    \n",
    "def additive_inverse(v: list) -> list:\n",
    "    return scalar_mul(-1, v)\n",
    "\n",
    "def sle(vectors: list, constant_vector: list = None) -> list:\n",
    "    result = [[] for _ in range(3)]\n",
    "    \n",
    "    for vector in vectors:\n",
    "        for i, entry in enumerate(vector):\n",
    "            if i == 0:\n",
    "                result[i].append(entry - 2)\n",
    "            elif i == 1:\n",
    "                result[i].append(entry)\n",
    "            else:\n",
    "                result[i].append(entry + 4)\n",
    "                \n",
    "    if constant_vector != None:\n",
    "        for i, entry in enumerate(constant_vector):\n",
    "            if i == 0:\n",
    "                result[i].append(entry - 2)\n",
    "            elif i == 1:\n",
    "                result[i].append(entry)\n",
    "            else:\n",
    "                result[i].append(entry + 4)\n",
    "\n",
    "    return result\n",
    "\n",
    "def coordinates(v: list) -> tuple:\n",
    "    basis = [[1, 3, 4], [-2, 0, 4], [9, 8, 5]]\n",
    "    augmented_matrix = sle(basis, v)\n",
    "    print_matrix(augmented_matrix)\n",
    "    for elementary_matrix in M265GaussianElimination(augmented_matrix):\n",
    "        augmented_matrix = MatrixMult(elementary_matrix, augmented_matrix)\n",
    "    print()\n",
    "    print_matrix(augmented_matrix)\n",
    "    return augmented_matrix[0][3], augmented_matrix[1][3], augmented_matrix[2][3]"
   ]
  },
  {
   "cell_type": "code",
   "execution_count": 8,
   "metadata": {},
   "outputs": [
    {
     "data": {
      "text/plain": [
       "[2, 0, -4]"
      ]
     },
     "execution_count": 8,
     "metadata": {},
     "output_type": "execute_result"
    }
   ],
   "source": [
    "zero_vector()"
   ]
  },
  {
   "cell_type": "code",
   "execution_count": 9,
   "metadata": {},
   "outputs": [
    {
     "name": "stdout",
     "output_type": "stream",
     "text": [
      "The coefficient matrix:\n",
      "[-1, -2, 0, -4]\n",
      "[3, 0, 0, 0]\n",
      "[8, 4, 0, 8]\n"
     ]
    }
   ],
   "source": [
    "vectors = [b1, b2, b3, b4]\n",
    "A = sle(vectors)\n",
    "print(\"The coefficient matrix:\")\n",
    "print_matrix(A)"
   ]
  },
  {
   "cell_type": "markdown",
   "metadata": {},
   "source": [
    "The system of linear equation is $$\\begin{bmatrix} -1 & -2 & 0 & -4 \\\\ 3 & 0 & 0 & 0 \\\\ 8 & 4 & 0 & 8 \\end{bmatrix}\\,\\textbf{x}\\,=\\begin{bmatrix} 0 \\\\ 0 \\\\ 0 \\end{bmatrix}$$"
   ]
  },
  {
   "cell_type": "code",
   "execution_count": 10,
   "metadata": {},
   "outputs": [
    {
     "name": "stdout",
     "output_type": "stream",
     "text": [
      "In reduced row echelon form:\n",
      "[1.0, 0.0, 0.0, 0.0]\n",
      "[0.0, 1.0, 0.0, 2.0]\n",
      "[0.0, 0.0, 0.0, 0.0]\n"
     ]
    }
   ],
   "source": [
    "for elementary_matrix in M265GaussianElimination(A):\n",
    "    A = MatrixMult(elementary_matrix, A)\n",
    "print(\"In reduced row echelon form:\")\n",
    "print_matrix(A)"
   ]
  },
  {
   "cell_type": "code",
   "execution_count": 11,
   "metadata": {},
   "outputs": [
    {
     "data": {
      "text/plain": [
       "[[0, 0, 0, 0], [[-0.0, -0.0, 1, 0], [-0.0, -2.0, 0, 1]]]"
      ]
     },
     "execution_count": 11,
     "metadata": {},
     "output_type": "execute_result"
    }
   ],
   "source": [
    "M265BackSubs(A, [0, 0, 0])"
   ]
  },
  {
   "cell_type": "markdown",
   "metadata": {},
   "source": [
    "By homogeneous solution being non-empty set, the following set of vector spaces are not linearly independent."
   ]
  },
  {
   "cell_type": "markdown",
   "metadata": {},
   "source": [
    "Let's take out `b1`"
   ]
  },
  {
   "cell_type": "code",
   "execution_count": 12,
   "metadata": {
    "scrolled": true
   },
   "outputs": [
    {
     "name": "stdout",
     "output_type": "stream",
     "text": [
      "The coefficient matrix:\n",
      "[-2, 0, -4]\n",
      "[0, 0, 0]\n",
      "[4, 0, 8]\n"
     ]
    }
   ],
   "source": [
    "vectors = [b2, b3, b4]\n",
    "A = sle(vectors)\n",
    "print(\"The coefficient matrix:\")\n",
    "print_matrix(A)"
   ]
  },
  {
   "cell_type": "markdown",
   "metadata": {},
   "source": [
    "The system of linear equation is $$\\begin{bmatrix} -2 & 0 & -4 \\\\ 0 & 0 & 0 \\\\ 4 & 0 & 8 \\end{bmatrix}\\,\\textbf{x}=\\,\\begin{bmatrix} 0 \\\\ 0 \\\\ 0 \\end{bmatrix}$$"
   ]
  },
  {
   "cell_type": "code",
   "execution_count": 13,
   "metadata": {},
   "outputs": [
    {
     "name": "stdout",
     "output_type": "stream",
     "text": [
      "In reduced row echelon form:\n",
      "[1.0, 0.0, 2.0]\n",
      "[0.0, 0.0, 0.0]\n",
      "[0.0, 0.0, 0.0]\n"
     ]
    }
   ],
   "source": [
    "for elementary_matrix in M265GaussianElimination(A):\n",
    "    A = MatrixMult(elementary_matrix, A)\n",
    "print(\"In reduced row echelon form:\")\n",
    "print_matrix(A)"
   ]
  },
  {
   "cell_type": "code",
   "execution_count": 14,
   "metadata": {},
   "outputs": [
    {
     "data": {
      "text/plain": [
       "[[0, 0, 0], [[-0.0, 1, 0], [-2.0, 0, 1]]]"
      ]
     },
     "execution_count": 14,
     "metadata": {},
     "output_type": "execute_result"
    }
   ],
   "source": [
    "M265BackSubs(A, [0, 0, 0])"
   ]
  },
  {
   "cell_type": "markdown",
   "metadata": {},
   "source": [
    "By homogeneous solution being non-empty set, the following set of vector spaces are not linearly independent."
   ]
  },
  {
   "cell_type": "markdown",
   "metadata": {},
   "source": [
    "Let's take out `b2`"
   ]
  },
  {
   "cell_type": "code",
   "execution_count": 15,
   "metadata": {},
   "outputs": [
    {
     "name": "stdout",
     "output_type": "stream",
     "text": [
      "The coefficient matrix:\n",
      "[-1, 0, -4]\n",
      "[3, 0, 0]\n",
      "[8, 0, 8]\n"
     ]
    }
   ],
   "source": [
    "vectors = [b1, b3, b4]\n",
    "A = sle(vectors)\n",
    "print(\"The coefficient matrix:\")\n",
    "print_matrix(A)"
   ]
  },
  {
   "cell_type": "markdown",
   "metadata": {},
   "source": [
    "The system of linear equation is $$\\begin{bmatrix} -1 & 0 & -4 \\\\ 3 & 0 & 0 \\\\ 8 & 0 & 8 \\end{bmatrix} \\textbf{x} = \\begin{bmatrix} 0 \\\\ 0 \\\\ 0 \\end{bmatrix}$$"
   ]
  },
  {
   "cell_type": "code",
   "execution_count": 16,
   "metadata": {},
   "outputs": [
    {
     "name": "stdout",
     "output_type": "stream",
     "text": [
      "In reduced row echelon form:\n",
      "[1.0, 0.0, 0.0]\n",
      "[0.0, 0.0, 1.0]\n",
      "[0.0, 0.0, 0.0]\n"
     ]
    }
   ],
   "source": [
    "for elementary_matrix in M265GaussianElimination(A):\n",
    "    A = MatrixMult(elementary_matrix, A)\n",
    "print(\"In reduced row echelon form:\")\n",
    "print_matrix(A)"
   ]
  },
  {
   "cell_type": "code",
   "execution_count": 17,
   "metadata": {},
   "outputs": [
    {
     "data": {
      "text/plain": [
       "[[0, 0, 0], [[-0.0, 1, -0.0]]]"
      ]
     },
     "execution_count": 17,
     "metadata": {},
     "output_type": "execute_result"
    }
   ],
   "source": [
    "M265BackSubs(A, [0, 0, 0])"
   ]
  },
  {
   "cell_type": "markdown",
   "metadata": {},
   "source": [
    "By homogeneous solution being non-empty set, the following set of vector spaces are not linearly independent."
   ]
  },
  {
   "cell_type": "markdown",
   "metadata": {},
   "source": [
    "Let's take out `b3`"
   ]
  },
  {
   "cell_type": "code",
   "execution_count": 18,
   "metadata": {},
   "outputs": [
    {
     "name": "stdout",
     "output_type": "stream",
     "text": [
      "The coefficient matrix:\n",
      "[-1, -2, -4]\n",
      "[3, 0, 0]\n",
      "[8, 4, 8]\n"
     ]
    }
   ],
   "source": [
    "vectors = [b1, b2, b4]\n",
    "A = sle(vectors)\n",
    "print(\"The coefficient matrix:\")\n",
    "print_matrix(A)"
   ]
  },
  {
   "cell_type": "markdown",
   "metadata": {},
   "source": [
    "The system of linear equation is $$\\begin{bmatrix} -1 & -2 & -4 \\\\ 3 & 0 & 0 \\\\ 8 & 4 & 8 \\end{bmatrix} \\textbf{x} = \\begin{bmatrix} 0 \\\\ 0 \\\\ 0 \\end{bmatrix}$$"
   ]
  },
  {
   "cell_type": "code",
   "execution_count": 19,
   "metadata": {},
   "outputs": [
    {
     "name": "stdout",
     "output_type": "stream",
     "text": [
      "In reduced row echelon form:\n",
      "[1.0, 0.0, 0.0]\n",
      "[0.0, 1.0, 2.0]\n",
      "[0.0, 0.0, 0.0]\n"
     ]
    }
   ],
   "source": [
    "for elementary_matrix in M265GaussianElimination(A):\n",
    "    A = MatrixMult(elementary_matrix, A)\n",
    "print(\"In reduced row echelon form:\")\n",
    "print_matrix(A)"
   ]
  },
  {
   "cell_type": "code",
   "execution_count": 20,
   "metadata": {},
   "outputs": [
    {
     "data": {
      "text/plain": [
       "[[0, 0, 0], [[-0.0, -2.0, 1]]]"
      ]
     },
     "execution_count": 20,
     "metadata": {},
     "output_type": "execute_result"
    }
   ],
   "source": [
    "M265BackSubs(A, [0, 0, 0])"
   ]
  },
  {
   "cell_type": "markdown",
   "metadata": {},
   "source": [
    "By homogeneous solution being non-empty set, the following set of vector spaces are not linearly independent."
   ]
  },
  {
   "cell_type": "markdown",
   "metadata": {},
   "source": [
    "Let's take out `b4`"
   ]
  },
  {
   "cell_type": "code",
   "execution_count": 21,
   "metadata": {},
   "outputs": [
    {
     "name": "stdout",
     "output_type": "stream",
     "text": [
      "The coefficient matrix:\n",
      "[-1, -2, 0]\n",
      "[3, 0, 0]\n",
      "[8, 4, 0]\n"
     ]
    }
   ],
   "source": [
    "vectors = [b1, b2, b3]\n",
    "A = sle(vectors)\n",
    "print(\"The coefficient matrix:\")\n",
    "print_matrix(A)"
   ]
  },
  {
   "cell_type": "markdown",
   "metadata": {},
   "source": [
    "The system of linear equation is $$\\begin{bmatrix} -1 & -2 & 0 \\\\ 3 & 0 & 0 \\\\ 8 & 4 & 0 \\end{bmatrix} \\textbf{x} = \\begin{bmatrix} 0 \\\\ 0 \\\\ 0 \\end{bmatrix}$$"
   ]
  },
  {
   "cell_type": "code",
   "execution_count": 22,
   "metadata": {},
   "outputs": [
    {
     "name": "stdout",
     "output_type": "stream",
     "text": [
      "In reduced row echelon form:\n",
      "[1.0, 0.0, 0.0]\n",
      "[0.0, 1.0, 0.0]\n",
      "[0.0, 0.0, 0.0]\n"
     ]
    }
   ],
   "source": [
    "for elementary_matrix in M265GaussianElimination(A):\n",
    "    A = MatrixMult(elementary_matrix, A)\n",
    "print(\"In reduced row echelon form:\")\n",
    "print_matrix(A)"
   ]
  },
  {
   "cell_type": "code",
   "execution_count": 23,
   "metadata": {},
   "outputs": [
    {
     "data": {
      "text/plain": [
       "[[0, 0, 0], [[-0.0, -0.0, 1]]]"
      ]
     },
     "execution_count": 23,
     "metadata": {},
     "output_type": "execute_result"
    }
   ],
   "source": [
    "M265BackSubs(A, [0, 0, 0])"
   ]
  },
  {
   "cell_type": "markdown",
   "metadata": {},
   "source": [
    "By homogeneous solution being non-empty set, the following set of vector spaces are not linearly independent."
   ]
  },
  {
   "cell_type": "markdown",
   "metadata": {},
   "source": [
    "Let's take out both `b1` and `b2`"
   ]
  },
  {
   "cell_type": "code",
   "execution_count": 24,
   "metadata": {},
   "outputs": [
    {
     "name": "stdout",
     "output_type": "stream",
     "text": [
      "The coefficient matrix:\n",
      "[0, -4]\n",
      "[0, 0]\n",
      "[0, 8]\n"
     ]
    }
   ],
   "source": [
    "vectors = [b3, b4]\n",
    "A = sle(vectors)\n",
    "print(\"The coefficient matrix:\")\n",
    "print_matrix(A)"
   ]
  },
  {
   "cell_type": "markdown",
   "metadata": {},
   "source": [
    "The system of linear equation is $$\\begin{bmatrix} 0 & -4 \\\\ 0 & 0 \\\\ 0 & 8 \\end{bmatrix} \\textbf{x} = \\begin{bmatrix} 0 \\\\ 0 \\\\ 0 \\end{bmatrix}$$"
   ]
  },
  {
   "cell_type": "code",
   "execution_count": 25,
   "metadata": {},
   "outputs": [
    {
     "name": "stdout",
     "output_type": "stream",
     "text": [
      "In reduced row echelon form:\n",
      "[0.0, 1.0]\n",
      "[0.0, 0.0]\n",
      "[0.0, 0.0]\n"
     ]
    }
   ],
   "source": [
    "for elementary_matrix in M265GaussianElimination(A):\n",
    "    A = MatrixMult(elementary_matrix, A)\n",
    "print(\"In reduced row echelon form:\")\n",
    "print_matrix(A)"
   ]
  },
  {
   "cell_type": "code",
   "execution_count": 26,
   "metadata": {},
   "outputs": [
    {
     "data": {
      "text/plain": [
       "[[0, 0], [[1, -0.0]]]"
      ]
     },
     "execution_count": 26,
     "metadata": {},
     "output_type": "execute_result"
    }
   ],
   "source": [
    "M265BackSubs(A, [0, 0, 0])"
   ]
  },
  {
   "cell_type": "markdown",
   "metadata": {},
   "source": [
    "By homogeneous solution being non-empty set, the following set of vector spaces are not linearly independent."
   ]
  },
  {
   "cell_type": "markdown",
   "metadata": {},
   "source": [
    "Let's take out both `b1` and `b3`"
   ]
  },
  {
   "cell_type": "code",
   "execution_count": 27,
   "metadata": {},
   "outputs": [
    {
     "name": "stdout",
     "output_type": "stream",
     "text": [
      "The coefficient matrix:\n",
      "[-2, -4]\n",
      "[0, 0]\n",
      "[4, 8]\n"
     ]
    }
   ],
   "source": [
    "vectors = [b2, b4]\n",
    "A = sle(vectors)\n",
    "print(\"The coefficient matrix:\")\n",
    "print_matrix(A)"
   ]
  },
  {
   "cell_type": "markdown",
   "metadata": {},
   "source": [
    "The system of linear equation is $$\\begin{bmatrix} -2 & -4 \\\\ 0 & 0 \\\\ 4 & 8 \\end{bmatrix} \\textbf{x} = \\begin{bmatrix} 0 \\\\ 0 \\\\ 0 \\end{bmatrix}$$"
   ]
  },
  {
   "cell_type": "code",
   "execution_count": 28,
   "metadata": {},
   "outputs": [
    {
     "name": "stdout",
     "output_type": "stream",
     "text": [
      "In reduced row echelon form:\n",
      "[1.0, 2.0]\n",
      "[0.0, 0.0]\n",
      "[0.0, 0.0]\n"
     ]
    }
   ],
   "source": [
    "for elementary_matrix in M265GaussianElimination(A):\n",
    "    A = MatrixMult(elementary_matrix, A)\n",
    "print(\"In reduced row echelon form:\")\n",
    "print_matrix(A)"
   ]
  },
  {
   "cell_type": "code",
   "execution_count": 29,
   "metadata": {},
   "outputs": [
    {
     "data": {
      "text/plain": [
       "[[0, 0], [[-2.0, 1]]]"
      ]
     },
     "execution_count": 29,
     "metadata": {},
     "output_type": "execute_result"
    }
   ],
   "source": [
    "M265BackSubs(A, [0, 0, 0])"
   ]
  },
  {
   "cell_type": "markdown",
   "metadata": {},
   "source": [
    "By homogeneous solution being non-empty set, the following set of vector spaces are not linearly independent."
   ]
  },
  {
   "cell_type": "markdown",
   "metadata": {},
   "source": [
    "Let's take out both `b1` and `b4`"
   ]
  },
  {
   "cell_type": "code",
   "execution_count": 30,
   "metadata": {},
   "outputs": [
    {
     "name": "stdout",
     "output_type": "stream",
     "text": [
      "The coefficient matrix:\n",
      "[-2, 0]\n",
      "[0, 0]\n",
      "[4, 0]\n"
     ]
    }
   ],
   "source": [
    "vectors = [b2, b3]\n",
    "A = sle(vectors)\n",
    "print(\"The coefficient matrix:\")\n",
    "print_matrix(A)"
   ]
  },
  {
   "cell_type": "markdown",
   "metadata": {},
   "source": [
    "The system of linear equation is $$\\begin{bmatrix} -2 & 0 \\\\ 0 & 0 \\\\ 4 & 0 \\end{bmatrix} \\textbf{x} = \\begin{bmatrix} 0 \\\\ 0 \\\\ 0 \\end{bmatrix}$$"
   ]
  },
  {
   "cell_type": "code",
   "execution_count": 31,
   "metadata": {},
   "outputs": [
    {
     "name": "stdout",
     "output_type": "stream",
     "text": [
      "In reduced row echelon form:\n",
      "[1.0, 0.0]\n",
      "[0.0, 0.0]\n",
      "[0.0, 0.0]\n"
     ]
    }
   ],
   "source": [
    "for elementary_matrix in M265GaussianElimination(A):\n",
    "    A = MatrixMult(elementary_matrix, A)\n",
    "print(\"In reduced row echelon form:\")\n",
    "print_matrix(A)"
   ]
  },
  {
   "cell_type": "code",
   "execution_count": 32,
   "metadata": {},
   "outputs": [
    {
     "data": {
      "text/plain": [
       "[[0, 0], [[-0.0, 1]]]"
      ]
     },
     "execution_count": 32,
     "metadata": {},
     "output_type": "execute_result"
    }
   ],
   "source": [
    "M265BackSubs(A, [0, 0, 0])"
   ]
  },
  {
   "cell_type": "markdown",
   "metadata": {},
   "source": [
    "By homogeneous solution being non-empty set, the following set of vector spaces are not linearly independent."
   ]
  },
  {
   "cell_type": "markdown",
   "metadata": {},
   "source": [
    "Let's take out bot `b2` and `b3`"
   ]
  },
  {
   "cell_type": "code",
   "execution_count": 33,
   "metadata": {},
   "outputs": [
    {
     "name": "stdout",
     "output_type": "stream",
     "text": [
      "The coefficient matrix:\n",
      "[-1, -4]\n",
      "[3, 0]\n",
      "[8, 8]\n"
     ]
    }
   ],
   "source": [
    "vectors = [b1, b4]\n",
    "A = sle(vectors)\n",
    "print(\"The coefficient matrix:\")\n",
    "print_matrix(A)"
   ]
  },
  {
   "cell_type": "markdown",
   "metadata": {},
   "source": [
    "The system of linear equation is $$\\begin{bmatrix} -1 & -4 \\\\ 3 & 0 \\\\ 8 & 8 \\end{bmatrix} \\textbf{x} = \\begin{bmatrix} 0 \\\\ 0 \\\\ 0 \\end{bmatrix}$$"
   ]
  },
  {
   "cell_type": "code",
   "execution_count": 34,
   "metadata": {},
   "outputs": [
    {
     "name": "stdout",
     "output_type": "stream",
     "text": [
      "In reduced row echelon form:\n",
      "[1.0, 0.0]\n",
      "[0.0, 1.0]\n",
      "[0.0, 0.0]\n"
     ]
    }
   ],
   "source": [
    "for elementary_matrix in M265GaussianElimination(A):\n",
    "    A = MatrixMult(elementary_matrix, A)\n",
    "print(\"In reduced row echelon form:\")\n",
    "print_matrix(A)"
   ]
  },
  {
   "cell_type": "code",
   "execution_count": 35,
   "metadata": {},
   "outputs": [
    {
     "data": {
      "text/plain": [
       "[[0, 0], []]"
      ]
     },
     "execution_count": 35,
     "metadata": {},
     "output_type": "execute_result"
    }
   ],
   "source": [
    "M265BackSubs(A, [0, 0, 0])"
   ]
  },
  {
   "cell_type": "markdown",
   "metadata": {},
   "source": [
    "As shown above, the equation satisfies if and only if all the constants are zero. Thus, vectors `b1` and `b4` are linearly independent."
   ]
  },
  {
   "cell_type": "markdown",
   "metadata": {},
   "source": [
    "To extend it to a basis, we will need to add another vectors that does not make the set linearly dependent"
   ]
  },
  {
   "cell_type": "code",
   "execution_count": 36,
   "metadata": {},
   "outputs": [
    {
     "name": "stdout",
     "output_type": "stream",
     "text": [
      "[-1, -4, 7]\n",
      "[3, 0, 8]\n",
      "[8, 8, 9]\n"
     ]
    }
   ],
   "source": [
    "b5 = [9, 8, 5]\n",
    "basis = [b1, b4, b5]\n",
    "A = sle(basis)\n",
    "print_matrix(A)"
   ]
  },
  {
   "cell_type": "code",
   "execution_count": 37,
   "metadata": {},
   "outputs": [
    {
     "name": "stdout",
     "output_type": "stream",
     "text": [
      "[1.0, 0.0, 0.0]\n",
      "[0.0, 1.0, 0.0]\n",
      "[0.0, 0.0, 1.0]\n"
     ]
    }
   ],
   "source": [
    "for elementary_matrix in M265GaussianElimination(A):\n",
    "    A = MatrixMult(elementary_matrix, A)\n",
    "print_matrix(A)"
   ]
  },
  {
   "cell_type": "code",
   "execution_count": 38,
   "metadata": {},
   "outputs": [
    {
     "data": {
      "text/plain": [
       "[[0, 0, 0], []]"
      ]
     },
     "execution_count": 38,
     "metadata": {},
     "output_type": "execute_result"
    }
   ],
   "source": [
    "M265BackSubs(A, [0, 0, 0])"
   ]
  },
  {
   "cell_type": "markdown",
   "metadata": {},
   "source": [
    "That concludes vector $\\left(\\begin{array}{c}\n",
    "           9 \\\\\n",
    "           8 \\\\\n",
    "           5\n",
    "         \\end{array}\\right)$ is valid to make linearly independent set."
   ]
  },
  {
   "cell_type": "code",
   "execution_count": 39,
   "metadata": {},
   "outputs": [
    {
     "name": "stdout",
     "output_type": "stream",
     "text": [
      "[-1, -4, 7, 2]\n",
      "[3, 0, 8, -4]\n",
      "[8, 8, 9, -6]\n"
     ]
    }
   ],
   "source": [
    "u = [4, -4, -10]\n",
    "A = sle(basis, u)\n",
    "print_matrix(A)"
   ]
  },
  {
   "cell_type": "markdown",
   "metadata": {},
   "source": [
    "The system of linear equation is $$\\begin{bmatrix} -1 & -4 & 7 \\\\ 3 & 0 & 8 \\\\ 8 & 8 & 9 \\end{bmatrix} \\textbf{x} = \\begin{bmatrix} 2 \\\\ -4 \\\\ -6 \\end{bmatrix}$$"
   ]
  },
  {
   "cell_type": "code",
   "execution_count": 40,
   "metadata": {},
   "outputs": [
    {
     "name": "stdout",
     "output_type": "stream",
     "text": [
      "[1.0, 0.0, 0.0, -3.619047619047618]\n",
      "[0.0, 1.0, 0.0, 1.904761904761904]\n",
      "[0.0, 0.0, 1.0, 0.8571428571428569]\n"
     ]
    }
   ],
   "source": [
    "for elementary_matrix in M265GaussianElimination(A):\n",
    "    A = MatrixMult(elementary_matrix, A)\n",
    "print_matrix(A)"
   ]
  },
  {
   "cell_type": "markdown",
   "metadata": {},
   "source": [
    "Output above gives the coordinates of $\\vec{u}$"
   ]
  },
  {
   "cell_type": "code",
   "execution_count": 41,
   "metadata": {},
   "outputs": [
    {
     "name": "stdout",
     "output_type": "stream",
     "text": [
      "[-1, -4, 7, 2]\n",
      "[3, 0, 8, -4]\n",
      "[8, 8, 9, -6]\n",
      "\n",
      "[1.0, 0.0, 0.0, -3.619047619047618]\n",
      "[0.0, 1.0, 0.0, 1.904761904761904]\n",
      "[0.0, 0.0, 1.0, 0.8571428571428569]\n"
     ]
    },
    {
     "data": {
      "text/plain": [
       "(-3.619047619047618, 1.904761904761904, 0.8571428571428569)"
      ]
     },
     "execution_count": 41,
     "metadata": {},
     "output_type": "execute_result"
    }
   ],
   "source": [
    "coordinates(u)"
   ]
  },
  {
   "cell_type": "markdown",
   "metadata": {},
   "source": [
    "The function `coordinates()` takes an argument that is a vector defined in the vector space and gives the coordinates of that vector."
   ]
  }
 ],
 "metadata": {
  "kernelspec": {
   "display_name": "Python 3",
   "language": "python",
   "name": "python3"
  },
  "language_info": {
   "codemirror_mode": {
    "name": "ipython",
    "version": 3
   },
   "file_extension": ".py",
   "mimetype": "text/x-python",
   "name": "python",
   "nbconvert_exporter": "python",
   "pygments_lexer": "ipython3",
   "version": "3.8.5"
  }
 },
 "nbformat": 4,
 "nbformat_minor": 2
}
