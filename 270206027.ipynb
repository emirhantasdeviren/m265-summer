{
 "cells": [
  {
   "cell_type": "markdown",
   "metadata": {},
   "source": [
    "<h1>Math 265 Linear Algebra</h1>"
   ]
  },
  {
   "cell_type": "markdown",
   "metadata": {},
   "source": [
    "## Matrix multiplication"
   ]
  },
  {
   "cell_type": "code",
   "execution_count": 4,
   "metadata": {},
   "outputs": [],
   "source": [
    "def MatrixDim(A: list) -> list: \n",
    "    #\n",
    "    # This function is supposed to return the dimensions of matrix A\n",
    "    #\n",
    "    M265rows = len(A)\n",
    "    \n",
    "    if not A:\n",
    "        M265cols = 0\n",
    "    else:\n",
    "        M265cols = len(A[0])\n",
    "        \n",
    "    return [M265rows, M265cols]   \n",
    "\n",
    "def MatrixMult(A: list, B: list):     \n",
    "    #\n",
    "    # This function should multiply the matrices A and B\n",
    "    # start by creating an empty array\n",
    "    M265Result = []\n",
    "    \n",
    "    dim_a = MatrixDim(A)\n",
    "    dim_b = MatrixDim(B)\n",
    "\n",
    "    if dim_a[1] is dim_b[0]:           # Checking if A and B can mutiply\n",
    "        for i in range(dim_a[0]):\n",
    "            M265Result.append([])\n",
    "            for j in range(dim_b[1]):\n",
    "                c = 0\n",
    "                for k in range(dim_a[1]):\n",
    "                    c += A[i][k] * B[k][j]\n",
    "                M265Result[i].append(c)\n",
    "        return M265Result\n",
    "    else:\n",
    "        print(\"ERROR: Matrices can not be multiplied\")\n",
    "        return -1"
   ]
  },
  {
   "cell_type": "markdown",
   "metadata": {},
   "source": [
    "Proof and explanations for you function related to Matrix Multiplication"
   ]
  },
  {
   "cell_type": "markdown",
   "metadata": {},
   "source": [
    "## Back Substitution Programming"
   ]
  },
  {
   "cell_type": "code",
   "execution_count": 5,
   "metadata": {},
   "outputs": [],
   "source": [
    "def M265isRref(A: list) -> (bool, list):\n",
    "    leading_one_indices = []\n",
    "    non_zero_after_pivot = []\n",
    "\n",
    "    for i, row in enumerate(A):\n",
    "        passed_pivot: bool = False\n",
    "        for j, entry in enumerate(row):\n",
    "            if entry != 0 and i == 0:\n",
    "                if passed_pivot:\n",
    "                    non_zero_after_pivot.append(j)\n",
    "                else:\n",
    "                    passed_pivot = True\n",
    "                    if entry == 1:\n",
    "                        leading_one_indices.append(j)\n",
    "                    else:\n",
    "                        return False, []\n",
    "            if entry != 0 and i > 0:\n",
    "                if j in leading_one_indices:\n",
    "                    return False, []\n",
    "\n",
    "                if passed_pivot:\n",
    "                    non_zero_after_pivot.append(j)\n",
    "                else:\n",
    "                    passed_pivot = True\n",
    "                    if entry == 1:\n",
    "                        if j in non_zero_after_pivot:\n",
    "                            return False, []\n",
    "                        elif j <= max(leading_one_indices):\n",
    "                            return False, []\n",
    "                        else:\n",
    "                            leading_one_indices.append(j)\n",
    "                    else:\n",
    "                        return False, []\n",
    "                \n",
    "    return True, leading_one_indices\n",
    "                    \n",
    "\n",
    "def M265BackSubs(A: list, b: list) -> list:\n",
    "    is_reduced_echelon, leading_one_indices = M265isRref(A)\n",
    "    [row, col] = MatrixDim(A)\n",
    "    free_var_indices: list = [i for i in range(col) if i not in leading_one_indices]\n",
    "    \n",
    "    M265_parSol: list = [0 for _ in range(col)]\n",
    "    M265_homgSol: list = [[0 for _ in range(col)] for _ in range(len(free_var_indices))]\n",
    "    M265_solSet: list = []\n",
    "    \n",
    "    if is_reduced_echelon:\n",
    "        free_var_index: int = 0\n",
    "        cons_index: int = 0\n",
    "        for j in range(col):\n",
    "            if j in free_var_indices:\n",
    "                M265_homgSol[free_var_index][j] = 1\n",
    "                for i, leading_one_index in enumerate(leading_one_indices):\n",
    "                    M265_homgSol[free_var_index][leading_one_index] = -1 * A[i][j]\n",
    "                free_var_index += 1\n",
    "            else:\n",
    "                M265_parSol[j] = b[cons_index]\n",
    "                cons_index += 1\n",
    "    else:\n",
    "        print(\"ERROR: Matrix is not in reduced echelon form.\")\n",
    "    M265_solSet.append(M265_parSol)\n",
    "    M265_solSet.append(M265_homgSol)\n",
    "    \n",
    "    return M265_solSet"
   ]
  },
  {
   "cell_type": "markdown",
   "metadata": {},
   "source": [
    "Proof and explanations for your code related to _Back Substitution_"
   ]
  },
  {
   "cell_type": "code",
   "execution_count": null,
   "metadata": {},
   "outputs": [],
   "source": [
    "t156_0 = [[4, -4, -10, 14, 7, 8, -10, -12, 7, 11, 8, 3, -1, 12, -3, -1, -5, 1, -3, -5, 9, 6, 11, 14], [0, -3, 5, 13, -5, -15, 11, 14, 9, 12, -4, -6, -14, 4, -12, 14, 6, 5, -7, -3, 8, -14, 9, -10], [-1, -12, -3, 9, -14, -5, 6, 10, -11, -9, 11, -13, -1, -9, -8, 13, 11, 11, -6, -13, 1, 11, -13, -12], [-1, -8, 2, -10, 2, -7, 11, 7, 0, -5, 6, 12, -8, -8, -6, -5, 6, 0, 11, 2, 8, 11, -2, 10], [9, 3, 8, 1, 3, -5, -13, 7, 0, -1, 5, -3, -11, -5, -7, -7, -12, -4, 8, -11, -4, 14, -14, 0], [-4, -2, -9, -14, 4, -8, 2, -8, -15, -2, 8, 1, 13, 11, -15, 0, -15, 12, -1, 2, 0, -15, 9, -15], [-7, -10, -10, -8, 3, -11, -9, -5, 12, -8, 5, -7, -4, 5, -9, -3, 3, 14, 0, 6, 9, 0, 11, -8], [9, -3, -8, 1, -9, 10, 9, -15, -9, 2, 6, 8, 4, -9, -8, 6, 2, 12, -5, -2, 5, -14, 13, -4], [-12, -6, -14, 14, 10, -12, -15, 0, 2, 12, -11, -14, 6, 6, -7, -4, 12, 4, -13, -6, -12, -7, 5, 4], [-10, 5, 11, 13, -3, 12, -3, -9, -5, 13, 11, 12, -8, -15, -14, 11, 6, -14, -11, -9, -3, 7, 7, -13], [4, 1, 7, 10, 3, 8, -8, 3, -8, 13, -9, 9, -6, 0, -9, 3, -6, 13, 6, 9, -9, -2, 8, 9]]\n",
    "t156_1 = [[-6, 4, -11, 5, -10, 1, 1, -2, -11, 3, -2, 7, -12, -12, -1, 12, -10, 1, -12], [4, 4, -12, -8, 12, 6, -11, -11, 14, -9, 1, 7, -3, 8, 4, -3, -1, -7, -1], [10, -5, 6, 5, 14, -2, -6, 12, -13, 14, -8, 12, -14, 0, 14, -5, 13, 8, -3], [4, -15, -4, 10, -2, 14, -10, 3, -7, -5, 3, -8, -4, 14, -1, -8, 12, 12, -4], [0, -6, 5, -3, 6, -1, -2, -8, 11, 12, 13, -8, -8, 0, -13, 4, -5, -6, 13], [8, -15, -6, -1, -14, 13, -2, 10, -5, -14, -4, 7, -3, -14, -1, -4, -2, 14, -9], [4, -4, 7, 14, 10, 0, 5, 9, 7, -7, 4, -11, -13, -13, -8, 4, 9, -6, -8], [-10, -10, -9, -11, 4, -6, 12, 8, -6, -8, 1, -3, 4, -10, -9, -5, 14, -4, 7], [-4, -9, 4, 11, 8, -1, -4, 12, -2, 10, -5, 8, 5, -2, -15, -9, 14, -3, -5], [-3, 0, 3, 4, -7, -15, -14, 3, 12, -13, 6, -14, 14, 4, -14, 1, -6, -4, 4], [-14, -2, -6, 5, -7, 1, -14, -5, 12, -14, -6, 8, 13, 11, -6, 4, -7, -4, 6], [3, -13, 5, 0, -7, 11, -5, 5, 1, -3, 13, 10, -6, -13, 12, 5, 12, -10, -3], [3, -8, -7, -14, 13, 1, -8, -6, 14, -4, -14, 11, -1, -4, 9, -4, 11, -12, -1], [-6, 14, -12, -6, 5, -6, -9, -5, 3, -2, 0, -8, -9, 7, -7, -8, -14, 14, 4], [7, -5, 8, 2, 3, 2, 6, 14, 4, 4, -4, -14, 4, 13, 11, -12, -8, 2, 0], [12, 10, 1, -14, -5, -1, 7, -1, 14, 4, -2, 0, 12, -1, 7, 4, -4, 0, -13], [11, 4, -3, 6, 7, -8, 6, -7, -4, -1, 14, 8, 9, 9, -1, 6, 0, 0, -13], [12, 13, 3, 1, -2, 10, -13, 11, -15, 4, 12, -10, 8, 13, -11, 1, 1, 12, 11], [5, -11, -9, -1, -3, 13, -9, 1, -2, -11, -5, 8, -6, 6, 13, 9, 14, -15, 9]]"
   ]
  },
  {
   "cell_type": "code",
   "execution_count": null,
   "metadata": {},
   "outputs": [],
   "source": [
    "A = [[1, 0, 3, 2, 0, 5],\n",
    "     [0, 1, 0, 3, 0, 0],\n",
    "     [0, 0, 0, 0, 1, 6]]\n",
    "b = [4, 3, 7]"
   ]
  },
  {
   "cell_type": "code",
   "execution_count": null,
   "metadata": {},
   "outputs": [],
   "source": [
    "M265BackSubs(A, b)"
   ]
  },
  {
   "cell_type": "code",
   "execution_count": null,
   "metadata": {},
   "outputs": [],
   "source": [
    "m1 = [[1, 0, 2, 0, 0],\n",
    "      [0, 1, 5, 0, 13],\n",
    "      [0, 0, 0, 1, 25]]\n",
    "b= [1,2,3]"
   ]
  },
  {
   "cell_type": "code",
   "execution_count": null,
   "metadata": {},
   "outputs": [],
   "source": [
    "M265BackSubs(m1, b)"
   ]
  },
  {
   "cell_type": "markdown",
   "metadata": {},
   "source": [
    "## Gaussian Elimination"
   ]
  },
  {
   "cell_type": "code",
   "execution_count": 42,
   "metadata": {},
   "outputs": [],
   "source": [
    "def identity_matrix(length: int) -> list:\n",
    "    data = []\n",
    "    \n",
    "    for i in range(length):\n",
    "        data.append([])\n",
    "        for j in range(length):\n",
    "            if i == j:\n",
    "                data[i].append(1)\n",
    "            else:\n",
    "                data[i].append(0)\n",
    "                \n",
    "    return data\n",
    "\n",
    "def pivot(data: list) -> list:\n",
    "    result = []\n",
    "    \n",
    "    for i, row in enumerate(data):\n",
    "        for j, entry in enumerate(row):\n",
    "            if entry != 0:\n",
    "                result.append(j)\n",
    "                break\n",
    "                \n",
    "    return result\n",
    "\n",
    "def pivot_is_sorted(pivot_points: list) -> bool:\n",
    "    return all(a < b for a, b in zip(pivot_points, pivot_points[1:]))\n",
    "\n",
    "def gaussian_elimination(data: list) -> list:\n",
    "    pivot_points = pivot(data)\n",
    "    [row, column] = MatrixDim(data)\n",
    "    result = []\n",
    "    print(pivot_points)\n",
    "    while not pivot_is_sorted(pivot_points):\n",
    "        for index, (a, b) in enumerate(zip(pivot_points, pivot_points[1:])):\n",
    "            # TODO: Consider row of zeros not in the last row\n",
    "            pivot_point_row_index = pivot_points.index(a)\n",
    "            if a == b:\n",
    "                print(f\"index: {index}\\na_i: {pivot_point_row_index}\\na: {a}\\nb: {b}\")\n",
    "                multiply_by = -data[index + 1][b] / data[pivot_point_row_index][a]\n",
    "                identity = identity_matrix(row)\n",
    "                row_operation = [entry * multiply_by if entry != 0 else 0 for entry in identity[pivot_point_row_index]]\n",
    "                for j in range(row):\n",
    "                    identity[index + 1][j] += row_operation[j]\n",
    "                result.append(identity)\n",
    "                data = MatrixMult(identity, data)\n",
    "            elif a > b:\n",
    "                identity = identity_matrix(row)\n",
    "                temp_row = [entry for entry in identity[index]]\n",
    "                for j in range(row):\n",
    "                    identity[index][j] = identity[index + 1][j]\n",
    "                for j, temp_entry in enumerate(temp_row):\n",
    "                    identity[index + 1][j] = temp_entry\n",
    "                result.append(identity)\n",
    "                data = MatrixMult(identity, data)\n",
    "        pivot_points = pivot(data)\n",
    "\n",
    "    for limit, j in enumerate(pivot_points):\n",
    "        for i in range(0, limit + 1):\n",
    "            if i != limit and data[i][j] != 0:\n",
    "                multiply_by = -data[i][j] / data[limit][j]\n",
    "                identity = identity_matrix(row)\n",
    "                row_operation = [entry * multiply_by if entry != 0 else 0 for entry in identity[limit]]\n",
    "                for index in range(row):\n",
    "                    identity[i][index] += row_operation[index]\n",
    "                data = MatrixMult(identity, data)\n",
    "                result.append(identity)\n",
    "            if i == limit and data[i][j] != 1:\n",
    "                identity = identity_matrix(row)\n",
    "                for index in range(row):\n",
    "                    identity[limit][index] /= data[limit][j]\n",
    "                data = MatrixMult(identity, data)\n",
    "                result.append(identity)\n",
    "    print(data)\n",
    "    return result"
   ]
  },
  {
   "cell_type": "code",
   "execution_count": 43,
   "metadata": {},
   "outputs": [],
   "source": [
    "A = [[6, 7, 0, 8],\n",
    "     [0, 4, 1, 8],\n",
    "     [0, 0, 5/2, 0],\n",
    "     [0, 0, 0, 0]]"
   ]
  },
  {
   "cell_type": "code",
   "execution_count": 44,
   "metadata": {
    "tags": []
   },
   "outputs": [
    {
     "output_type": "stream",
     "name": "stdout",
     "text": "[0, 1, 2]\n[[1.0, 0.0, 0.0, -0.9999999999999998], [0.0, 1.0, 0.0, 2.0], [0.0, 0.0, 1.0, 0.0], [0.0, 0.0, 0.0, 0.0]]\n"
    },
    {
     "output_type": "execute_result",
     "data": {
      "text/plain": "[[[0.16666666666666666, 0.0, 0.0, 0.0],\n  [0, 1, 0, 0],\n  [0, 0, 1, 0],\n  [0, 0, 0, 1]],\n [[1, -0.29166666666666663, 0, 0], [0, 1, 0, 0], [0, 0, 1, 0], [0, 0, 0, 1]],\n [[1, 0, 0, 0], [0.0, 0.25, 0.0, 0.0], [0, 0, 1, 0], [0, 0, 0, 1]],\n [[1, 0, 0.11666666666666665, 0], [0, 1, 0, 0], [0, 0, 1, 0], [0, 0, 0, 1]],\n [[1, 0, 0, 0], [0, 1, -0.1, 0], [0, 0, 1, 0], [0, 0, 0, 1]],\n [[1, 0, 0, 0], [0, 1, 0, 0], [0.0, 0.0, 0.4, 0.0], [0, 0, 0, 1]]]"
     },
     "metadata": {},
     "execution_count": 44
    }
   ],
   "source": [
    "gaussian_elimination(A)"
   ]
  }
 ],
 "metadata": {
  "kernelspec": {
   "display_name": "Python 3",
   "language": "python",
   "name": "python3"
  },
  "language_info": {
   "codemirror_mode": {
    "name": "ipython",
    "version": 3
   },
   "file_extension": ".py",
   "mimetype": "text/x-python",
   "name": "python",
   "nbconvert_exporter": "python",
   "pygments_lexer": "ipython3",
   "version": "3.8.5-final"
  }
 },
 "nbformat": 4,
 "nbformat_minor": 2
}