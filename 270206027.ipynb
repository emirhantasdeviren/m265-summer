{
 "cells": [
  {
   "cell_type": "markdown",
   "metadata": {},
   "source": [
    "<h1>Math 265 Linear Algebra</h1>"
   ]
  },
  {
   "cell_type": "markdown",
   "metadata": {},
   "source": [
    "## Matrix multiplication"
   ]
  },
  {
   "cell_type": "code",
   "execution_count": null,
   "metadata": {},
   "outputs": [],
   "source": [
    "def MatrixDim(A: list) -> list: \n",
    "    row = len(A)\n",
    "    \n",
    "    if not A:\n",
    "        column = 0\n",
    "    else:\n",
    "        column = len(A[0])\n",
    "        \n",
    "    return [row, column]   \n",
    "\n",
    "def MatrixMult(A: list, B: list):\n",
    "    result = []\n",
    "    \n",
    "    dim_a = MatrixDim(A)\n",
    "    dim_b = MatrixDim(B)\n",
    "\n",
    "    if dim_a[1] is dim_b[0]:           # Checking if A and B can mutiply\n",
    "        for i in range(dim_a[0]):\n",
    "            result.append([])\n",
    "            for j in range(dim_b[1]):\n",
    "                c = 0\n",
    "                for k in range(dim_a[1]):\n",
    "                    c += A[i][k] * B[k][j]\n",
    "                result[i].append(c)\n",
    "        return result\n",
    "    else:\n",
    "        print(\"ERROR: Matrices can not be multiplied\")\n",
    "        return -1"
   ]
  },
  {
   "cell_type": "markdown",
   "metadata": {},
   "source": [
    "Proof and explanations for you function related to Matrix Multiplication"
   ]
  },
  {
   "cell_type": "markdown",
   "metadata": {},
   "source": [
    "## Back Substitution Programming"
   ]
  },
  {
   "cell_type": "code",
   "execution_count": null,
   "metadata": {},
   "outputs": [],
   "source": [
    "def M265Pivots(data: list) -> list:\n",
    "    result = []\n",
    "\n",
    "    for i, row in enumerate(data):\n",
    "        for j, entry in enumerate(row):\n",
    "            if entry != 0:\n",
    "                result.append(j)\n",
    "                break\n",
    "        if len(result) < i + 1:\n",
    "            result.append(-1)     \n",
    "    return result\n",
    "\n",
    "def M265isRref(A: list) -> bool:\n",
    "    pivot_points: list = M265Pivots(A)\n",
    "    result: bool = all(a < b if a != -1 and b != -1 else a >= b for a, b in zip(pivot_points, pivot_points[1:]))\n",
    "    \n",
    "    if result:\n",
    "        for row, pivot in zip(A, pivot_points):\n",
    "            for j, entry in enumerate(row):\n",
    "                if pivot != -1:\n",
    "                    if j < pivot and entry != 0:\n",
    "                        return False\n",
    "                    elif j == pivot and entry != 1:\n",
    "                        return False\n",
    "                    elif j > pivot and entry != 0 and j in pivot_points:\n",
    "                        return False\n",
    "    \n",
    "    return result\n",
    "\n",
    "def M265BackSubs(A: list, b: list) -> list:\n",
    "    [row, column] = MatrixDim(A)\n",
    "    pivot_points: list = M265Pivots(A)\n",
    "    par_sol: list = [0 for _ in range(column)]\n",
    "    homg_sol: list = [[0 for _ in range(column)] for i in range(column) if i not in pivot_points ]\n",
    "    sol_set: list = []\n",
    "    \n",
    "    if M265isRref(A):\n",
    "        homg_sol_index: int = 0\n",
    "        par_sol_index: int = 0\n",
    "        for j in range(column):\n",
    "            for i in range(row):\n",
    "                if j in pivot_points and A[i][j] == 1:\n",
    "                    par_sol[j] = b[par_sol_index]\n",
    "                elif pivot_points[i] == -1 and b[i] != 0:\n",
    "                    return [[], homg_sol]\n",
    "                elif j not in pivot_points and pivot_points[i] != -1:\n",
    "                    homg_sol[homg_sol_index][pivot_points[i]] = -A[i][j]\n",
    "                    homg_sol[homg_sol_index][j] = 1\n",
    "            if j in pivot_points:\n",
    "                par_sol_index += 1\n",
    "            else:\n",
    "                homg_sol_index += 1\n",
    "    else:\n",
    "        print(\"ERROR: Given matrix is not in reduced row echelon form\")\n",
    "\n",
    "    sol_set.append(par_sol)\n",
    "    sol_set.append(homg_sol)\n",
    "    return sol_set"
   ]
  },
  {
   "cell_type": "markdown",
   "metadata": {},
   "source": [
    "Proof and explanations for your code related to _Back Substitution_"
   ]
  },
  {
   "cell_type": "code",
   "execution_count": null,
   "metadata": {},
   "outputs": [],
   "source": [
    "t156_0 = [[4, -4, -10, 14, 7, 8, -10, -12, 7, 11, 8, 3, -1, 12, -3, -1, -5, 1, -3, -5, 9, 6, 11, 14], [0, -3, 5, 13, -5, -15, 11, 14, 9, 12, -4, -6, -14, 4, -12, 14, 6, 5, -7, -3, 8, -14, 9, -10], [-1, -12, -3, 9, -14, -5, 6, 10, -11, -9, 11, -13, -1, -9, -8, 13, 11, 11, -6, -13, 1, 11, -13, -12], [-1, -8, 2, -10, 2, -7, 11, 7, 0, -5, 6, 12, -8, -8, -6, -5, 6, 0, 11, 2, 8, 11, -2, 10], [9, 3, 8, 1, 3, -5, -13, 7, 0, -1, 5, -3, -11, -5, -7, -7, -12, -4, 8, -11, -4, 14, -14, 0], [-4, -2, -9, -14, 4, -8, 2, -8, -15, -2, 8, 1, 13, 11, -15, 0, -15, 12, -1, 2, 0, -15, 9, -15], [-7, -10, -10, -8, 3, -11, -9, -5, 12, -8, 5, -7, -4, 5, -9, -3, 3, 14, 0, 6, 9, 0, 11, -8], [9, -3, -8, 1, -9, 10, 9, -15, -9, 2, 6, 8, 4, -9, -8, 6, 2, 12, -5, -2, 5, -14, 13, -4], [-12, -6, -14, 14, 10, -12, -15, 0, 2, 12, -11, -14, 6, 6, -7, -4, 12, 4, -13, -6, -12, -7, 5, 4], [-10, 5, 11, 13, -3, 12, -3, -9, -5, 13, 11, 12, -8, -15, -14, 11, 6, -14, -11, -9, -3, 7, 7, -13], [4, 1, 7, 10, 3, 8, -8, 3, -8, 13, -9, 9, -6, 0, -9, 3, -6, 13, 6, 9, -9, -2, 8, 9]]\n",
    "t156_1 = [[-6, 4, -11, 5, -10, 1, 1, -2, -11, 3, -2, 7, -12, -12, -1, 12, -10, 1, -12], [4, 4, -12, -8, 12, 6, -11, -11, 14, -9, 1, 7, -3, 8, 4, -3, -1, -7, -1], [10, -5, 6, 5, 14, -2, -6, 12, -13, 14, -8, 12, -14, 0, 14, -5, 13, 8, -3], [4, -15, -4, 10, -2, 14, -10, 3, -7, -5, 3, -8, -4, 14, -1, -8, 12, 12, -4], [0, -6, 5, -3, 6, -1, -2, -8, 11, 12, 13, -8, -8, 0, -13, 4, -5, -6, 13], [8, -15, -6, -1, -14, 13, -2, 10, -5, -14, -4, 7, -3, -14, -1, -4, -2, 14, -9], [4, -4, 7, 14, 10, 0, 5, 9, 7, -7, 4, -11, -13, -13, -8, 4, 9, -6, -8], [-10, -10, -9, -11, 4, -6, 12, 8, -6, -8, 1, -3, 4, -10, -9, -5, 14, -4, 7], [-4, -9, 4, 11, 8, -1, -4, 12, -2, 10, -5, 8, 5, -2, -15, -9, 14, -3, -5], [-3, 0, 3, 4, -7, -15, -14, 3, 12, -13, 6, -14, 14, 4, -14, 1, -6, -4, 4], [-14, -2, -6, 5, -7, 1, -14, -5, 12, -14, -6, 8, 13, 11, -6, 4, -7, -4, 6], [3, -13, 5, 0, -7, 11, -5, 5, 1, -3, 13, 10, -6, -13, 12, 5, 12, -10, -3], [3, -8, -7, -14, 13, 1, -8, -6, 14, -4, -14, 11, -1, -4, 9, -4, 11, -12, -1], [-6, 14, -12, -6, 5, -6, -9, -5, 3, -2, 0, -8, -9, 7, -7, -8, -14, 14, 4], [7, -5, 8, 2, 3, 2, 6, 14, 4, 4, -4, -14, 4, 13, 11, -12, -8, 2, 0], [12, 10, 1, -14, -5, -1, 7, -1, 14, 4, -2, 0, 12, -1, 7, 4, -4, 0, -13], [11, 4, -3, 6, 7, -8, 6, -7, -4, -1, 14, 8, 9, 9, -1, 6, 0, 0, -13], [12, 13, 3, 1, -2, 10, -13, 11, -15, 4, 12, -10, 8, 13, -11, 1, 1, 12, 11], [5, -11, -9, -1, -3, 13, -9, 1, -2, -11, -5, 8, -6, 6, 13, 9, 14, -15, 9]]"
   ]
  },
  {
   "cell_type": "markdown",
   "metadata": {},
   "source": [
    "## Gaussian Elimination"
   ]
  },
  {
   "cell_type": "code",
   "execution_count": null,
   "metadata": {},
   "outputs": [],
   "source": [
    "def print_matrix(A: list):\n",
    "    for i in range(len(A)):\n",
    "        print(A[i])\n",
    "\n",
    "def M265Identity(length: int) -> list:\n",
    "    I = []\n",
    "    \n",
    "    for i in range(length):\n",
    "        I.append([])\n",
    "        for j in range(length):\n",
    "            if i == j:\n",
    "                I[i].append(1)\n",
    "            else:\n",
    "                I[i].append(0)\n",
    "                \n",
    "    return I\n",
    "\n",
    "def M265GaussianElimination(A: list) -> list:\n",
    "    [row, _column] = MatrixDim(A)\n",
    "    result = []\n",
    "\n",
    "    while not M265isRref(A):\n",
    "        pivot_points = M265Pivots(A)\n",
    "        print_matrix(A)\n",
    "        print()\n",
    "        for index, (a, b) in enumerate(zip(pivot_points, pivot_points[1:])):\n",
    "            if (a == -1 and b == -1) or (a == -1 and b != -1):\n",
    "                print(f\"{pivot_points}\")\n",
    "                if a == -1 and b != -1:\n",
    "                    i = M265Identity(row)\n",
    "                    for j in range(row):\n",
    "                        i[index][j], i[index + 1][j] = i[index + 1][j], i[index][j]\n",
    "                    result.append(i)\n",
    "                    A = MatrixMult(i, A)\n",
    "                    pivot_points[index], pivot_points[index + 1] = pivot_points[index + 1], pivot_points[index]\n",
    "                print(f\"after swap {pivot_points}\")\n",
    "            elif a > b:\n",
    "                i = M265Identity(row)\n",
    "                for j in range(row):\n",
    "                    i[index][j], i[index + 1][j] = i[index + 1][j], i[index][j]\n",
    "                result.append(i)\n",
    "                A = MatrixMult(i, A)\n",
    "                pivot_points[index], pivot_points[index + 1] = pivot_points[index + 1], pivot_points[index]\n",
    "            elif a == b:\n",
    "                i = M265Identity(row)\n",
    "                multiply_by = -A[index + 1][b] / A[index][a]\n",
    "                for j in range(row):\n",
    "                    i[index + 1][j] += i[index][j] * multiply_by\n",
    "                result.append(i)\n",
    "                A = MatrixMult(i, A)\n",
    "                break\n",
    "            else:\n",
    "                print(\"anan\")\n",
    "                if A[index][a] != 1:\n",
    "                    i = M265Identity(row)\n",
    "                    for j in range(row):\n",
    "                        i[index][j] /= A[index][a]\n",
    "                    result.append(i)\n",
    "                    A = MatrixMult(i, A)\n",
    "                elif A[index + 1][b] != 1:\n",
    "                    i = M265Identity(row)\n",
    "                    for j in range(row):\n",
    "                        i[index + 1][j] /= A[index + 1][b]\n",
    "                    result.append(i)\n",
    "                    A = MatrixMult(i, A)\n",
    "                else:\n",
    "                    for i in range(row):\n",
    "                        if i < index and A[i][a] != 0:\n",
    "                            identity = M265Identity(row)\n",
    "                            multiply_by = -A[i][a] / A[index][a]\n",
    "                            for j in range(row):\n",
    "                                identity[i][j] += identity[index][j] * multiply_by\n",
    "                            result.append(identity)\n",
    "                            A = MatrixMult(identity, A)\n",
    "                        elif i < index + 1 and A[i][b] != 0:\n",
    "                            identity = M265Identity(row)\n",
    "                            multiply_by = -A[i][b] / A[index + 1][b]\n",
    "                            for j in range(row):\n",
    "                                identity[i][j] += identity[index + 1][j] * multiply_by\n",
    "                            result.append(identity)\n",
    "                            A = MatrixMult(identity, A)\n",
    "\n",
    "    return result"
   ]
  },
  {
   "cell_type": "markdown",
   "metadata": {},
   "source": [
    "## Vector Space Operations"
   ]
  },
  {
   "cell_type": "code",
   "execution_count": null,
   "metadata": {},
   "outputs": [],
   "source": [
    "def vector_add(lhs: list, rhs: list) -> list:\n",
    "    if lhs[0] > 9 and rhs[0] > 9:\n",
    "        result = [lhs[0] * rhs[0] - 9 * (lhs[0] + rhs[0]) + 90, \\\n",
    "                  lhs[1] + rhs[1] - 2]\n",
    "\n",
    "        if result[0] > 9:\n",
    "            return result\n",
    "        else:\n",
    "            print(\"ERROR: The resultant vector is not defined in the vector space\")\n",
    "            return None\n",
    "    else:\n",
    "        print(\"ERROR: Given one of the vectors is not defined in the vector space\")\n",
    "        return None\n",
    "\n",
    "def scalar_mul(alpha: int, v: list) -> list:\n",
    "    if v[0] > 9:\n",
    "        result = [(v[0] - 9)**alpha + 9, \\\n",
    "                  alpha * v[1] - 2 * alpha + 2]\n",
    "\n",
    "        if result[0] > 9:\n",
    "            return result\n",
    "        else:\n",
    "            print(\"ERROR: The resultant vector is not defined in the vector space\")\n",
    "            return None\n",
    "    else:\n",
    "        print(\"ERROR: Given vector is not defined in the vector space\")\n",
    "        return None\n",
    "    \n",
    "def zero_vector() -> list:\n",
    "    v = [11, 7]\n",
    "    return scalar_mul(0, v)\n",
    "    \n",
    "def additive_inverse(v: list) -> list:\n",
    "    return scalar_mul(-1, v)"
   ]
  },
  {
   "cell_type": "markdown",
   "metadata": {},
   "source": [
    "## Linear Dependence"
   ]
  },
  {
   "cell_type": "markdown",
   "metadata": {},
   "source": [
    "$ u = \\left(\\begin{array}{c} x\\\\y\\\\z\\end{array}\\right)$ $ v = \\left(\\begin{array}{c} s\\\\t\\\\r\\end{array}\\right)$"
   ]
  },
  {
   "cell_type": "markdown",
   "metadata": {},
   "source": [
    "$$u\\oplus v \n",
    " = \\left(\\begin{array}{c} x\\\\y\\\\z\\end{array}\\right)\n",
    "     \\oplus \\left(\\begin{array}{c} s\\\\t\\\\r\\end{array}\\right)\n",
    " = \\left(\\begin{array}{c} x+s-2\\\\y+t\\\\z+r+4\\end{array}\\right)$$"
   ]
  },
  {
   "cell_type": "markdown",
   "metadata": {},
   "source": [
    "$$\\alpha \\odot \\vec{u}\n",
    "    =\\alpha \\odot\\left(\\begin{array}{c} x\\\\y\\\\z\\end{array}\\right)\n",
    "    =\\alpha \\odot\\left(\\begin{array}{c} \n",
    "            \\alpha x-2\\alpha +2\n",
    "            \\\\\\alpha y\n",
    "            \\\\\\alpha z +4\\alpha - 4\\end{array}\\right)$$"
   ]
  },
  {
   "cell_type": "code",
   "execution_count": null,
   "metadata": {},
   "outputs": [],
   "source": [
    "b1 =[1,3,4]\n",
    "b2 = [0,0,0]\n",
    "b3 = [2,0,-4]\n",
    "b4 = [-2,0,4]"
   ]
  },
  {
   "cell_type": "code",
   "execution_count": null,
   "metadata": {},
   "outputs": [],
   "source": [
    "def vector_add(lhs: list, rhs: list) -> list:\n",
    "    return [lhs[0] + rhs[0] - 2, \\\n",
    "            lhs[1] + rhs[1], \\\n",
    "            lhs[2] + rhs[2] + 4]\n",
    "\n",
    "def scalar_mul(alpha: int, v: list) -> list:\n",
    "    return [alpha * v[0] - 2 * alpha + 2, \\\n",
    "            alpha * v[1], \\\n",
    "            alpha * v[2] + 4 * alpha - 4]\n",
    "\n",
    "def zero_vector() -> list:\n",
    "    v = [1, 2, 3]\n",
    "    return scalar_mul(0, v)\n",
    "    \n",
    "def additive_inverse(v: list) -> list:\n",
    "    return scalar_mul(-1, v)"
   ]
  },
  {
   "cell_type": "code",
   "execution_count": null,
   "metadata": {},
   "outputs": [],
   "source": [
    "zero_vector()"
   ]
  },
  {
   "cell_type": "code",
   "execution_count": null,
   "metadata": {},
   "outputs": [],
   "source": [
    "zv = zero_vector()\n",
    "A = [[0, 2, -2, zv[0]], [0, 0, 0, zv[1]], [0, -4, 4, zv[2]]]\n",
    "print(\"The augmented matrix:\")\n",
    "print_matrix(A)"
   ]
  },
  {
   "cell_type": "code",
   "execution_count": null,
   "metadata": {},
   "outputs": [],
   "source": [
    "for elementary_matrix in M265GaussianElimination(A):\n",
    "    A = MatrixMult(elementary_matrix, A)\n",
    "print(\"In reduced row echelon form:\")\n",
    "print_matrix(A)"
   ]
  },
  {
   "cell_type": "code",
   "execution_count": null,
   "metadata": {},
   "outputs": [],
   "source": [
    "# Converting to coefficient matrix with constant vector\n",
    "\n",
    "A = [[1.0, 0.0, 0.0, 0.0],\n",
    "     [0.0, 0.0, 1.0, -1.0],\n",
    "     [0.0, 0.0, 0.0, 0.0]]\n",
    "b = [0, 1, 0]\n",
    "M265BackSubs(A, b)"
   ]
  },
  {
   "cell_type": "markdown",
   "metadata": {},
   "source": [
    "By particular solution being non-empty set, the following set of vector spaces are not linearly independent."
   ]
  },
  {
   "cell_type": "code",
   "execution_count": null,
   "metadata": {},
   "outputs": [],
   "source": []
  }
 ],
 "metadata": {
  "kernelspec": {
   "display_name": "Python 3",
   "language": "python",
   "name": "python3"
  },
  "language_info": {
   "codemirror_mode": {
    "name": "ipython",
    "version": 3
   },
   "file_extension": ".py",
   "mimetype": "text/x-python",
   "name": "python",
   "nbconvert_exporter": "python",
   "pygments_lexer": "ipython3",
   "version": "3.8.5"
  }
 },
 "nbformat": 4,
 "nbformat_minor": 2
}
