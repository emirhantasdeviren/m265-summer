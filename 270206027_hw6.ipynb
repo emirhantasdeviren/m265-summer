{
 "cells": [
  {
   "cell_type": "markdown",
   "metadata": {},
   "source": [
    "<h1>System of Linear Equations Routines</h1>"
   ]
  },
  {
   "cell_type": "code",
   "execution_count": 5,
   "metadata": {},
   "outputs": [],
   "source": [
    "# Let us first define the numbers we will work with. Note the use of KK when defining\n",
    "# both matrices and vectors. Details aside it will make output numbers look nice if you set\n",
    "# KK equal QQ. Other possible options are RR, CC, QQ, QQbar; here QQbar is another nice option\n",
    "KK = QQ\n",
    "\n",
    "def GetEch(M265Matrix):\n",
    "    # given a matrix defined as above the function returns the echelon form of the matrix\n",
    "    return M265Matrix.echelon_form()\n",
    "\n",
    "def HomSol(M265Matrix):\n",
    "    # obtain the homogeneous solution set of SLE with matrix M265Matrix\n",
    "    return M265Matrix.right_kernel_matrix()\n",
    "\n",
    "def ParSol(M265Matrix,M265Vector):\n",
    "    # obtain a particular solutino to SLE with matrix M265Matrix and vector of constant M265Vector\n",
    "    (rw,cl)=M265Matrix.dimensions()\n",
    "    if(rw!=len(M265Vector)):\n",
    "        print(\"dimension error\")\n",
    "    try:\n",
    "        return M265Matrix.solve_right(M265Vector)\n",
    "    except ValueError:\n",
    "        #if ValueError occurs there is no solution but instead of raising the error we return\n",
    "        # the empty set\n",
    "        return vector(KK,[])\n",
    "    return False\n",
    "    \n",
    "def GetERO(M265Matrix, debug = False):\n",
    "    # get one list of elemetary operations that reduce a matrix to Reduced Echelon Form\n",
    "    resEliminations = []\n",
    "    [Rw,Cl]=M265Matrix.dimensions()\n",
    "    M265copy = Matrix(KK,M265Matrix)\n",
    "    if (debug):\n",
    "        print(M265copy)\n",
    "    rw = 0\n",
    "    cl = 0\n",
    "    for c in range(Cl):\n",
    "        hasPivot = False\n",
    "        # first we check if the column under question has a pivot\n",
    "        for r in range(rw,Rw):\n",
    "            if (M265copy[r][cl]!=0):\n",
    "                hasPivot = True\n",
    "                if (r!=rw):\n",
    "                    EO = identity_matrix(KK,Rw)\n",
    "                    EO.swap_rows(rw,r)\n",
    "                    resEliminations.append(EO)\n",
    "                    M265copy.swap_rows(rw,r)\n",
    "                    if (debug):\n",
    "                        print(\"\\n\")\n",
    "                        print(\"Swap row \",rw,\"with row\", r)\n",
    "                        print(M265copy)\n",
    "                break # if there is a pivot \n",
    "        if (hasPivot):\n",
    "            # if there is a pivot first scale it to one if the pivot is not one\n",
    "            if (M265copy[rw][cl]!= KK(1)):\n",
    "                EO=identity_matrix(KK,Rw)\n",
    "                EO.rescale_row(rw,KK(1)/M265copy[rw][cl])\n",
    "                resEliminations.append(EO)\n",
    "                M265copy=resEliminations[-1]*M265copy\n",
    "                if (debug):\n",
    "                    print(\"\\n\")\n",
    "                    print(\"Scale row\", rw)\n",
    "                    print(M265copy)\n",
    "\n",
    "            # make the respective entries in the column zero except for the row that contains the pivot (r==rw)\n",
    "            # further if a row has already entry zero at that column skip that row as the resulting scaling\n",
    "            # is simply the identity matrix (M265copy[r][cl]==0)\n",
    "            for r in range(Rw):\n",
    "                if ((r==rw) or (M265copy[r][cl]==0)):\n",
    "                    continue\n",
    "                EO = identity_matrix(KK,Rw)\n",
    "                EO.add_multiple_of_row(r,rw,-M265copy[r][cl])\n",
    "                resEliminations.append(EO)\n",
    "                #M265copy = M265copy.add_multiple_of_row(r,rw,-M265copy[r][cl])\n",
    "                M265copy=resEliminations[-1]*M265copy\n",
    "                if(debug):\n",
    "                    print(\"\\n\")\n",
    "                    print(\"M265copy multiple of row\",rw,\"to row\",r )\n",
    "                    print(M265copy)\n",
    "            rw += 1 # if there was a pivot in this column for the remaining rows up we search for pivots\n",
    "            # only on rows that are below it\n",
    "        cl += 1\n",
    "        \n",
    "    return resEliminations"
   ]
  },
  {
   "cell_type": "markdown",
   "metadata": {},
   "source": [
    "<h2>Some <i>nice</i> matrices</h2>"
   ]
  },
  {
   "cell_type": "markdown",
   "metadata": {},
   "source": [
    "<h3>$3\\times 3$ matrices</h3>"
   ]
  },
  {
   "cell_type": "code",
   "execution_count": 6,
   "metadata": {},
   "outputs": [
    {
     "name": "stdout",
     "output_type": "stream",
     "text": [
      "[ 5 -8 -4]\n",
      "[ 3 -5 -2]\n",
      "[-4  7  3]\n",
      "\n",
      "[-3 -2 -8  1]\n",
      "[-2  0 -5  1]\n",
      "[ 0 -1 -1  0]\n",
      "[ 0 -5  0 -2]\n"
     ]
    }
   ],
   "source": [
    "M3 = Matrix(KK,[[5,-8,-4],[3,-5,-2],[-4,7,3]])\n",
    "M4 = Matrix(KK, [\\\n",
    "                 [-3, -2, -8,  1],\\\n",
    "                 [-2,  0, -5,  1],\\\n",
    "                 [ 0, -1, -1,  0],\\\n",
    "                 [ 0, -5,  0, -2]])\n",
    "print(M3)\n",
    "print()\n",
    "print(M4)"
   ]
  },
  {
   "cell_type": "markdown",
   "metadata": {},
   "source": [
    "<h1>Homework</h1>"
   ]
  },
  {
   "cell_type": "markdown",
   "metadata": {},
   "source": [
    "<h2>Restrictions</h2>\n",
    "<p>You may run the sage kernel or any other kernel of your choice. However, beyond the Standard Routines provided at the top of this notebook no other function calls are allowed from the sage (or any other library).</p>\n",
    "<p>If you cannot run sage, please update the above routines with the solutions I've provided for the first homework and use those instead. You are welcome to contact me for further information if that is the case.</p>"
   ]
  },
  {
   "cell_type": "markdown",
   "metadata": {},
   "source": [
    "<h2>Linear transformations</h2>\n",
    "Given two matrices $MA$ and $MB$ each of their rows is considered as a vector. Assume MA and MB have the same number of rows. Your implementation tasks are:\n",
    "<dl>\n",
    "    <dt>isLinearlyExtendable(MA,MB)</dt>\n",
    "    <dd>The function isLinearlyExtendable returns True if it is possible to linearly extend the map $\\phi(MA[i]) = MB[i]$ to the span of the rows of $MA$; else it returns False.</dd> \n",
    "    <dt>matrixForm(MA,MB)</dt>\n",
    "    <dd>Assume isLinearlyExtendable(MA,MB) returns True. The function matrixForm(MA,MB) should return the matrix form of the map $\\phi(MA[i]) = MB[i]$.</dd>\n",
    "    <dt>isInjection(MA,MB)</dt>\n",
    "    <dd>Assume isLinearlyExtendable(MA,MB) returns True. The function isBijection(MA,MB) should True if the map $\\phi(MA[i]) = MB[i]$ is one to one and False otherwise.</dd>\n",
    "    <dt>nullSpace(MA,MB)</dt>\n",
    "    <dd>Assume isLinearlyExtendable(MA,MB) returns True. The function nullSpace(MA,MB) should return a basis for the kernel of the map $\\phi(MA[i]) = MB[i]$ in the form of a list where each row is a basis vector; if function is one-to-one it should return an empty list.</dd>\n",
    "</dl>"
   ]
  },
  {
   "cell_type": "code",
   "execution_count": 7,
   "metadata": {},
   "outputs": [],
   "source": [
    "def isLinearlyExtendable(MA, MB) -> bool:\n",
    "    hom_sol_a = HomSol(MA.transpose())\n",
    "    hom_sol_b = HomSol(MB.transpose())\n",
    "    \n",
    "    if hom_sol_a.dimensions()[0] == hom_sol_b.dimensions()[0]:\n",
    "        return hom_sol_a == hom_sol_b\n",
    "    elif hom_sol_a.dimensions()[0] < hom_sol_b.dimensions()[0]:\n",
    "        for row in hom_sol_a:\n",
    "            if row not in hom_sol_b:\n",
    "                return False\n",
    "        return True\n",
    "    else:\n",
    "        return False\n",
    "\n",
    "\n",
    "\n",
    "def matrixForm(MA, MB):\n",
    "    if isLinearlyExtendable(MA, MB):\n",
    "        return MB.transpose()\n",
    "    else:\n",
    "        return None\n",
    "\n",
    "\n",
    "def isInjection(MA, MB) -> bool:\n",
    "    if isLinearlyExtendable(MA, MB):\n",
    "        res = HomSol(matrixForm(MA, MB))\n",
    "        if not res:\n",
    "            return True\n",
    "        else:\n",
    "            return False\n",
    "    else:\n",
    "        return None\n",
    "\n",
    "\n",
    "def nullSpace(MA, MB):\n",
    "    if isLinearlyExtendable(MA, MB):\n",
    "        if isInjection(MA, MB):\n",
    "            return []\n",
    "        else:\n",
    "            return MB.transpose().right_kernel_matrix(basis = \"pivot\")\n",
    "    else:\n",
    "        return None\n"
   ]
  },
  {
   "cell_type": "code",
   "execution_count": 8,
   "metadata": {},
   "outputs": [
    {
     "name": "stdout",
     "output_type": "stream",
     "text": [
      "[ 6  1  1]\n",
      "[ 4 -2  5]\n",
      "[ 2  8  7]\n",
      "\n",
      "\n",
      "Scale row 0\n",
      "[  1 1/6 1/6]\n",
      "[  4  -2   5]\n",
      "[  2   8   7]\n",
      "\n",
      "\n",
      "M265copy multiple of row 0 to row 1\n",
      "[   1  1/6  1/6]\n",
      "[   0 -8/3 13/3]\n",
      "[   2    8    7]\n",
      "\n",
      "\n",
      "M265copy multiple of row 0 to row 2\n",
      "[   1  1/6  1/6]\n",
      "[   0 -8/3 13/3]\n",
      "[   0 23/3 20/3]\n",
      "\n",
      "\n",
      "Scale row 1\n",
      "[    1   1/6   1/6]\n",
      "[    0     1 -13/8]\n",
      "[    0  23/3  20/3]\n",
      "\n",
      "\n",
      "M265copy multiple of row 1 to row 0\n",
      "[    1     0  7/16]\n",
      "[    0     1 -13/8]\n",
      "[    0  23/3  20/3]\n",
      "\n",
      "\n",
      "M265copy multiple of row 1 to row 2\n",
      "[    1     0  7/16]\n",
      "[    0     1 -13/8]\n",
      "[    0     0 153/8]\n",
      "\n",
      "\n",
      "Scale row 2\n",
      "[    1     0  7/16]\n",
      "[    0     1 -13/8]\n",
      "[    0     0     1]\n",
      "\n",
      "\n",
      "M265copy multiple of row 2 to row 0\n",
      "[    1     0     0]\n",
      "[    0     1 -13/8]\n",
      "[    0     0     1]\n",
      "\n",
      "\n",
      "M265copy multiple of row 2 to row 1\n",
      "[1 0 0]\n",
      "[0 1 0]\n",
      "[0 0 1]\n"
     ]
    },
    {
     "data": {
      "text/plain": [
       "[\n",
       "[1/6   0   0]  [ 1  0  0]  [ 1  0  0]  [   1    0    0]\n",
       "[  0   1   0]  [-4  1  0]  [ 0  1  0]  [   0 -3/8    0]\n",
       "[  0   0   1], [ 0  0  1], [-2  0  1], [   0    0    1],\n",
       "\n",
       "[   1 -1/6    0]  [    1     0     0]  [    1     0     0]\n",
       "[   0    1    0]  [    0     1     0]  [    0     1     0]\n",
       "[   0    0    1], [    0 -23/3     1], [    0     0 8/153],\n",
       "\n",
       "[    1     0 -7/16]  [   1    0    0]\n",
       "[    0     1     0]  [   0    1 13/8]\n",
       "[    0     0     1], [   0    0    1]\n",
       "]"
      ]
     },
     "execution_count": 8,
     "metadata": {},
     "output_type": "execute_result"
    }
   ],
   "source": [
    "determinant_test = Matrix(KK, [[6, 1, 1], [4, -2, 5], [2, 8, 7]])\n",
    "result = GetERO(determinant_test, True)\n",
    "result"
   ]
  },
  {
   "cell_type": "code",
   "execution_count": null,
   "metadata": {},
   "outputs": [],
   "source": []
  },
  {
   "cell_type": "code",
   "execution_count": null,
   "metadata": {},
   "outputs": [],
   "source": []
  }
 ],
 "metadata": {
  "kernelspec": {
   "display_name": "SageMath 9.1",
   "language": "sage",
   "name": "sagemath"
  },
  "language_info": {
   "codemirror_mode": {
    "name": "ipython",
    "version": 3
   },
   "file_extension": ".py",
   "mimetype": "text/x-python",
   "name": "python",
   "nbconvert_exporter": "python",
   "pygments_lexer": "ipython3",
   "version": "3.8.5"
  }
 },
 "nbformat": 4,
 "nbformat_minor": 2
}
