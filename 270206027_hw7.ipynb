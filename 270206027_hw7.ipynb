{
 "cells": [
  {
   "cell_type": "code",
   "execution_count": 1,
   "metadata": {},
   "outputs": [],
   "source": [
    "# Let us first define the numbers we will work with. Note the use of KK when defining\n",
    "# both matrices and vectors. Details aside it will make output numbers look nice if you set\n",
    "# KK equal QQ. Other possible options are RR, CC, QQ, QQbar; here QQbar is another nice option\n",
    "KK = QQ\n",
    "\n",
    "def GetEch(M265Matrix):\n",
    "    # given a matrix defined as above the function returns the echelon form of the matrix\n",
    "    return M265Matrix.echelon_form()\n",
    "\n",
    "def HomSol(M265Matrix):\n",
    "    # obtain the homogeneous solution set of SLE with matrix M265Matrix\n",
    "    return M265Matrix.right_kernel_matrix()\n",
    "\n",
    "def ParSol(M265Matrix,M265Vector):\n",
    "    # obtain a particular solutino to SLE with matrix M265Matrix and vector of constant M265Vector\n",
    "    (rw,cl)=M265Matrix.dimensions()\n",
    "    if(rw!=len(M265Vector)):\n",
    "        print(\"dimension error\")\n",
    "    try:\n",
    "        return M265Matrix.solve_right(M265Vector)\n",
    "    except ValueError:\n",
    "        #if ValueError occurs there is no solution but instead of raising the error we return\n",
    "        # the empty set\n",
    "        return vector(KK,[])\n",
    "    return False\n",
    "    \n",
    "def GetERO(M265Matrix, debug = False):\n",
    "    # get one list of elemetary operations that reduce a matrix to Reduced Echelon Form\n",
    "    resEliminations = []\n",
    "    [Rw,Cl]=M265Matrix.dimensions()\n",
    "    M265copy = Matrix(KK,M265Matrix)\n",
    "    if (debug):\n",
    "        print(M265copy)\n",
    "    rw = 0\n",
    "    cl = 0\n",
    "    for c in range(Cl):\n",
    "        hasPivot = False\n",
    "        # first we check if the column under question has a pivot\n",
    "        for r in range(rw,Rw):\n",
    "            if (M265copy[r][cl]!=0):\n",
    "                hasPivot = True\n",
    "                if (r!=rw):\n",
    "                    EO = identity_matrix(KK,Rw)\n",
    "                    EO.swap_rows(rw,r)\n",
    "                    resEliminations.append(EO)\n",
    "                    M265copy.swap_rows(rw,r)\n",
    "                    if (debug):\n",
    "                        print(\"\\n\")\n",
    "                        print(\"Swap row \",rw,\"with row\", r)\n",
    "                        print(M265copy)\n",
    "                break # if there is a pivot \n",
    "        if (hasPivot):\n",
    "            # if there is a pivot first scale it to one if the pivot is not one\n",
    "            if (M265copy[rw][cl]!= KK(1)):\n",
    "                EO=identity_matrix(KK,Rw)\n",
    "                EO.rescale_row(rw,KK(1)/M265copy[rw][cl])\n",
    "                resEliminations.append(EO)\n",
    "                M265copy=resEliminations[-1]*M265copy\n",
    "                if (debug):\n",
    "                    print(\"\\n\")\n",
    "                    print(\"Scale row\", rw)\n",
    "                    print(M265copy)\n",
    "\n",
    "            # make the respective entries in the column zero except for the row that contains the pivot (r==rw)\n",
    "            # further if a row has already entry zero at that column skip that row as the resulting scaling\n",
    "            # is simply the identity matrix (M265copy[r][cl]==0)\n",
    "            for r in range(Rw):\n",
    "                if ((r==rw) or (M265copy[r][cl]==0)):\n",
    "                    continue\n",
    "                EO = identity_matrix(KK,Rw)\n",
    "                EO.add_multiple_of_row(r,rw,-M265copy[r][cl])\n",
    "                resEliminations.append(EO)\n",
    "                #M265copy = M265copy.add_multiple_of_row(r,rw,-M265copy[r][cl])\n",
    "                M265copy=resEliminations[-1]*M265copy\n",
    "                if(debug):\n",
    "                    print(\"\\n\")\n",
    "                    print(\"M265copy multiple of row\",rw,\"to row\",r )\n",
    "                    print(M265copy)\n",
    "            rw += 1 # if there was a pivot in this column for the remaining rows up we search for pivots\n",
    "            # only on rows that are below it\n",
    "        cl += 1\n",
    "        \n",
    "    return resEliminations"
   ]
  },
  {
   "cell_type": "code",
   "execution_count": 6,
   "metadata": {},
   "outputs": [],
   "source": [
    "def DepDegree(MM, vv):\n",
    "    res = 0\n",
    "    vectors = [vv]\n",
    "    coefficient_matrix = Matrix(QQ, vectors)\n",
    "    \n",
    "    while not HomSol(coefficient_matrix.transpose()): #coefficient_matrix.transpose().right_kernel_matrix():\n",
    "        vectors.append(MM * vectors[-1])\n",
    "        coefficient_matrix = Matrix(QQ, vectors)\n",
    "        res += 1\n",
    "\n",
    "    return res\n",
    "\n",
    "\n",
    "def DepCoefs(MM, vv):\n",
    "    count = 0\n",
    "    vectors = [vv]\n",
    "    coefficient_matrix = Matrix(QQ, vectors)\n",
    "    \n",
    "    while not HomSol(coefficient_matrix.transpose()): # coefficient_matrix.transpose().right_kernel_matrix():\n",
    "        vectors.append(MM * vectors[-1])\n",
    "        coefficient_matrix = Matrix(QQ, vectors)\n",
    "        count += 1\n",
    "        \n",
    "    coefficient_matrix = Matrix(QQ, vectors[:count])\n",
    "    constant_vector = vectors[count]\n",
    "    \n",
    "    print(coefficient_matrix.transpose().augment(constant_vector.column(), subdivide=True))\n",
    "    \n",
    "    return ParSol(coefficient_matrix.transpose(), constant_vector) # coefficient_matrix.transpose().solve_right(constant_vector)"
   ]
  },
  {
   "cell_type": "code",
   "execution_count": 7,
   "metadata": {},
   "outputs": [],
   "source": [
    "M = Matrix(QQ, [[-3, -2, -8, 1], [-2, 0, -5, 1], [0, -1, -1, 0], [0, -5, 0, -2]])\n",
    "v = vector(QQ, [1, 1, 1, 1])"
   ]
  },
  {
   "cell_type": "code",
   "execution_count": 8,
   "metadata": {},
   "outputs": [
    {
     "data": {
      "text/plain": [
       "4"
      ]
     },
     "execution_count": 8,
     "metadata": {},
     "output_type": "execute_result"
    }
   ],
   "source": [
    "DepDegree(M, v)"
   ]
  },
  {
   "cell_type": "code",
   "execution_count": 9,
   "metadata": {},
   "outputs": [
    {
     "name": "stdout",
     "output_type": "stream",
     "text": [
      "[   1  -12   57 -245|1012]\n",
      "[   1   -6   27 -110| 442]\n",
      "[   1   -2    8  -35| 145]\n",
      "[   1   -7   44 -223| 996]\n"
     ]
    },
    {
     "data": {
      "text/plain": [
       "(1, 5, -7, -6)"
      ]
     },
     "execution_count": 9,
     "metadata": {},
     "output_type": "execute_result"
    }
   ],
   "source": [
    "DepCoefs(M, v)"
   ]
  }
 ],
 "metadata": {
  "kernelspec": {
   "display_name": "SageMath 9.1",
   "language": "sage",
   "name": "sagemath"
  },
  "language_info": {
   "codemirror_mode": {
    "name": "ipython",
    "version": 3
   },
   "file_extension": ".py",
   "mimetype": "text/x-python",
   "name": "python",
   "nbconvert_exporter": "python",
   "pygments_lexer": "ipython3",
   "version": "3.8.5"
  }
 },
 "nbformat": 4,
 "nbformat_minor": 4
}
