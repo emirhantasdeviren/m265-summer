{
 "cells": [
  {
   "cell_type": "markdown",
   "metadata": {},
   "source": [
    "<h1>System of Linear Equations Routines</h1>"
   ]
  },
  {
   "cell_type": "code",
   "execution_count": null,
   "metadata": {},
   "outputs": [],
   "source": [
    "# Let us first define the numbers we will work with. Note the use of KK when defining\n",
    "# both matrices and vectors. Details aside it will make output numbers look nice if you set\n",
    "# KK equal QQ. Other possible options are RR, CC, QQ, QQbar; here QQbar is another nice option\n",
    "KK = QQ\n",
    "\n",
    "def GetEch(M265Matrix):\n",
    "    # given a matrix defined as above the function returns the echelon form of the matrix\n",
    "    return M265Matrix.echelon_form()\n",
    "\n",
    "def HomSol(M265Matrix):\n",
    "    # obtain the homogeneous solution set of SLE with matrix M265Matrix\n",
    "    return M265Matrix.right_kernel_matrix()\n",
    "\n",
    "def ParSol(M265Matrix,M265Vector):\n",
    "    # obtain a particular solutino to SLE with matrix M265Matrix and vector of constant M265Vector\n",
    "    (rw,cl)=M265Matrix.dimensions()\n",
    "    if(rw!=len(M265Vector)):\n",
    "        print(\"dimension error\")\n",
    "    try:\n",
    "        return M265Matrix.solve_right(M265Vector)\n",
    "    except ValueError:\n",
    "        #if ValueError occurs there is no solution but instead of raising the error we return\n",
    "        # the empty set\n",
    "        return vector(KK,[])\n",
    "    return False\n",
    "    \n",
    "def GetERO(M265Matrix,debug=False):\n",
    "    # get one list of elemetary operations that reduce a matrix to Reduced Echelon Form\n",
    "    resEliminations = []\n",
    "    [Rw,Cl]=M265Matrix.dimensions()\n",
    "    M265copy = Matrix(KK,M265Matrix)\n",
    "    if (debug):\n",
    "        print(M265copy)\n",
    "    rw = 0\n",
    "    cl = 0\n",
    "    for c in range(Cl):\n",
    "        hasPivot = False\n",
    "        # first we check if the column under question has a pivot\n",
    "        for r in range(rw,Rw):\n",
    "            if (M265copy[r][cl]!=0):\n",
    "                hasPivot = True\n",
    "                if (r!=rw):\n",
    "                    EO = identity_matrix(KK,Rw)\n",
    "                    EO.swap_rows(rw,r)\n",
    "                    resEliminations.append(EO)\n",
    "                    M265copy.swap_rows(rw,r)\n",
    "                    if (debug):\n",
    "                        print(\"\\n\")\n",
    "                        print(\"Swap row \",rw,\"with row\", r)\n",
    "                        print(M265copy)\n",
    "                break # if there is a pivot \n",
    "        if (hasPivot):\n",
    "            # if there is a pivot first scale it to one if the pivot is not one\n",
    "            if (M265copy[rw][cl]!= KK(1)):\n",
    "                EO=identity_matrix(KK,Rw)\n",
    "                EO.rescale_row(rw,KK(1)/M265copy[rw][cl])\n",
    "                resEliminations.append(EO)\n",
    "                M265copy=resEliminations[-1]*M265copy\n",
    "                if (debug):\n",
    "                    print(\"\\n\")\n",
    "                    print(\"Scale row\", rw)\n",
    "                    print(M265copy)\n",
    "\n",
    "            # make the respective entries in the column zero except for the row that contains the pivot (r==rw)\n",
    "            # further if a row has already entry zero at that column skip that row as the resulting scaling\n",
    "            # is simply the identity matrix (M265copy[r][cl]==0)\n",
    "            for r in range(Rw):\n",
    "                if ((r==rw) or (M265copy[r][cl]==0)):\n",
    "                    continue\n",
    "                EO = identity_matrix(KK,Rw)\n",
    "                EO.add_multiple_of_row(r,rw,-M265copy[r][cl])\n",
    "                resEliminations.append(EO)\n",
    "                #M265copy = M265copy.add_multiple_of_row(r,rw,-M265copy[r][cl])\n",
    "                M265copy=resEliminations[-1]*M265copy\n",
    "                if(debug):\n",
    "                    print(\"\\n\")\n",
    "                    print(\"M265copy multiple of row\",rw,\"to row\",r )\n",
    "                    print(M265copy)\n",
    "            rw += 1 # if there was a pivot in this column for the remaining rows up we search for pivots\n",
    "            # only on rows that are below it\n",
    "        cl += 1\n",
    "    return resEliminations"
   ]
  },
  {
   "cell_type": "markdown",
   "metadata": {},
   "source": [
    "<h2>Some nice matrices</h2>"
   ]
  },
  {
   "cell_type": "markdown",
   "metadata": {},
   "source": [
    "<h3>$3\\times 3$ matrices</h3>"
   ]
  },
  {
   "cell_type": "code",
   "execution_count": null,
   "metadata": {},
   "outputs": [],
   "source": [
    "M3 = Matrix(KK,[[5,-8,-4],[3,-5,-2],[-4,7,3]])\n",
    "M4 = Matrix(KK, [\\\n",
    "                 [-3, -2, -8,  1],\\\n",
    "                 [-2,  0, -5,  1],\\\n",
    "                 [ 0, -1, -1,  0],\\\n",
    "                 [ 0, -5,  0, -2]])\n",
    "M3, M4"
   ]
  },
  {
   "cell_type": "markdown",
   "metadata": {},
   "source": [
    "<h1>Homework</h1>"
   ]
  },
  {
   "cell_type": "markdown",
   "metadata": {},
   "source": [
    "<h2>Restrictions</h2>\n",
    "<p>You may run the sage kernel or any other kernel of your choice. However, beyond the Standard Routines provided at the top of this notebook no other function calls are allowed from the sage (or any other library).</p>\n",
    "<p>If you cannot run sage, please update the above routines with the solutions I've provided for the first homework and use those instead. You are welcome to contact me for further information if that is the case.</p>"
   ]
  },
  {
   "cell_type": "markdown",
   "metadata": {},
   "source": [
    "<h2>Linear dependence</h2>\n",
    "In the homework $M$ denotes a square matrix of order $d$ and  $\\vec{v} = vv$ a vector with $d$ components that is different from the zero vector (i.e. $\\vec{v}\\ne \\vec{0}$).\n",
    "\n",
    "Consider the sequence $\\vec{v}_0 = \\vec{v}$, $\\vec{v}_1 = M\\vec{v}_0\\dots$ defined recursively $$\\vec{v}_{i+1} = M\\vec{v}_i$$. Since all vectors lie in the same $d$-dimensional vector space then there is a smallest integer $k$ such that the set $\\vec{v}_0,\\dots\\vec{v}_{k}$ is linearly dependent but any set  $\\vec{v}_0,\\dots\\vec{v}_{j}$ with $j<k$ is linearly independent. With that in mind it is necessarily the case that in the equation $$\\alpha_0\\vec{v}_0 + \\alpha_1\\vec{v}_1+\\cdots+\\alpha_{k-1}\\vec{v}_{k-1}+\\alpha_{k}\\vec{v}_k =\\vec{0}$$ the coefficient $\\alpha_k\\ne 0$.\n",
    "\n",
    "Your tasks are:\n",
    "<dl>\n",
    "    <dt>DepDegree(M,vv)</dt>\n",
    "    <dd>Given a matrix $M$ and a vector $vv$ return the value $k$ described above.</dd> \n",
    "    <dt>DepCoefs(M,vv)</dt>\n",
    "    <dd>Given a matrix $M$ and a vector $vv$ return the values $\\frac{\\alpha_0}{\\alpha_k},\\dots,\\frac{\\alpha_{k-1}}{\\alpha_k}$ in a list.</dd>\n",
    "</dl>\n",
    "<h2>Remarks</h2>\n",
    "When you program your routines your routines <em>must not</em> use Python's print function in <em>any</em> form. Your functions should simply return the above values."
   ]
  },
  {
   "cell_type": "code",
   "execution_count": null,
   "metadata": {},
   "outputs": [],
   "source": [
    "def DepDegree(MM, vv):\n",
    "    res = 0\n",
    "    vectors = [vv]\n",
    "    coefficient_matrix = Matrix(QQ, vectors)\n",
    "    \n",
    "    while not HomSol(coefficient_matrix.transpose()): #coefficient_matrix.transpose().right_kernel_matrix():\n",
    "        vectors.append(MM * vectors[-1])\n",
    "        coefficient_matrix = Matrix(QQ, vectors)\n",
    "        res += 1\n",
    "\n",
    "    return res\n",
    "\n",
    "\n",
    "def DepCoefs(MM, vv):\n",
    "    count = 0\n",
    "    vectors = [vv]\n",
    "    coefficient_matrix = Matrix(QQ, vectors)\n",
    "    \n",
    "    while not HomSol(coefficient_matrix.transpose()): # coefficient_matrix.transpose().right_kernel_matrix():\n",
    "        vectors.append(MM * vectors[-1])\n",
    "        coefficient_matrix = Matrix(QQ, vectors)\n",
    "        count += 1\n",
    "        \n",
    "    coefficient_matrix = Matrix(QQ, vectors[:count])\n",
    "    constant_vector = vectors[count]\n",
    "    \n",
    "    print(coefficient_matrix.transpose().augment(constant_vector.column(), subdivide=True))\n",
    "    \n",
    "    return ParSol(coefficient_matrix.transpose(), constant_vector) # coefficient_matrix.transpose().solve_right(constant_vector)"
   ]
  }
 ],
 "metadata": {
  "kernelspec": {
   "display_name": "SageMath 9.1",
   "language": "sage",
   "name": "sagemath"
  },
  "language_info": {
   "codemirror_mode": {
    "name": "ipython",
    "version": 3
   },
   "file_extension": ".py",
   "mimetype": "text/x-python",
   "name": "python",
   "nbconvert_exporter": "python",
   "pygments_lexer": "ipython3",
   "version": "3.8.5"
  }
 },
 "nbformat": 4,
 "nbformat_minor": 2
}
